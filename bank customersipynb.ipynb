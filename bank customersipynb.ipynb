{
 "cells": [
  {
   "cell_type": "markdown",
   "metadata": {
    "toc": true
   },
   "source": [
    "<h1>Содержание<span class=\"tocSkip\"></span></h1>\n",
    "<div class=\"toc\"><ul class=\"toc-item\"><li><span><a href=\"#Подготовка-данных\" data-toc-modified-id=\"Подготовка-данных-1\"><span class=\"toc-item-num\">1&nbsp;&nbsp;</span>Подготовка данных</a></span></li><li><span><a href=\"#Исследование-задачи\" data-toc-modified-id=\"Исследование-задачи-2\"><span class=\"toc-item-num\">2&nbsp;&nbsp;</span>Исследование задачи</a></span></li><li><span><a href=\"#Борьба-с-дисбалансом\" data-toc-modified-id=\"Борьба-с-дисбалансом-3\"><span class=\"toc-item-num\">3&nbsp;&nbsp;</span>Борьба с дисбалансом</a></span><ul class=\"toc-item\"><li><span><a href=\"#Взвешивание-классов\" data-toc-modified-id=\"Взвешивание-классов-3.1\"><span class=\"toc-item-num\">3.1&nbsp;&nbsp;</span>Взвешивание классов</a></span></li><li><span><a href=\"#Upsampling\" data-toc-modified-id=\"Upsampling-3.2\"><span class=\"toc-item-num\">3.2&nbsp;&nbsp;</span>Upsampling</a></span></li><li><span><a href=\"#Downsample\" data-toc-modified-id=\"Downsample-3.3\"><span class=\"toc-item-num\">3.3&nbsp;&nbsp;</span>Downsample</a></span></li></ul></li><li><span><a href=\"#Тестирование-модели\" data-toc-modified-id=\"Тестирование-модели-4\"><span class=\"toc-item-num\">4&nbsp;&nbsp;</span>Тестирование модели</a>"
   ]
  },
  {
   "cell_type": "markdown",
   "metadata": {},
   "source": [
    "# Отток клиентов"
   ]
  },
  {
   "cell_type": "markdown",
   "metadata": {},
   "source": [
    "Из «Бета-Банка» стали уходить клиенты. Каждый месяц. Немного, но заметно. Банковские маркетологи посчитали: сохранять текущих клиентов дешевле, чем привлекать новых.\n",
    "\n",
    "Нужно спрогнозировать, уйдёт клиент из банка в ближайшее время или нет. Вам предоставлены исторические данные о поведении клиентов и расторжении договоров с банком. \n",
    "\n",
    "Постройте модель с предельно большим значением *F1*-меры. Чтобы сдать проект успешно, нужно довести метрику до 0.59. Проверьте *F1*-меру на тестовой выборке самостоятельно.\n",
    "\n",
    "Дополнительно измеряйте *AUC-ROC*, сравнивайте её значение с *F1*-мерой.\n",
    "\n",
    "Источник данных: [https://www.kaggle.com/barelydedicated/bank-customer-churn-modeling](https://www.kaggle.com/barelydedicated/bank-customer-churn-modeling)"
   ]
  },
  {
   "cell_type": "markdown",
   "metadata": {},
   "source": [
    "## Подготовка данных"
   ]
  },
  {
   "cell_type": "code",
   "execution_count": 1,
   "metadata": {},
   "outputs": [
    {
     "data": {
      "text/html": [
       "<div>\n",
       "<style scoped>\n",
       "    .dataframe tbody tr th:only-of-type {\n",
       "        vertical-align: middle;\n",
       "    }\n",
       "\n",
       "    .dataframe tbody tr th {\n",
       "        vertical-align: top;\n",
       "    }\n",
       "\n",
       "    .dataframe thead th {\n",
       "        text-align: right;\n",
       "    }\n",
       "</style>\n",
       "<table border=\"1\" class=\"dataframe\">\n",
       "  <thead>\n",
       "    <tr style=\"text-align: right;\">\n",
       "      <th></th>\n",
       "      <th>RowNumber</th>\n",
       "      <th>CustomerId</th>\n",
       "      <th>Surname</th>\n",
       "      <th>CreditScore</th>\n",
       "      <th>Geography</th>\n",
       "      <th>Gender</th>\n",
       "      <th>Age</th>\n",
       "      <th>Tenure</th>\n",
       "      <th>Balance</th>\n",
       "      <th>NumOfProducts</th>\n",
       "      <th>HasCrCard</th>\n",
       "      <th>IsActiveMember</th>\n",
       "      <th>EstimatedSalary</th>\n",
       "      <th>Exited</th>\n",
       "    </tr>\n",
       "  </thead>\n",
       "  <tbody>\n",
       "    <tr>\n",
       "      <th>0</th>\n",
       "      <td>1</td>\n",
       "      <td>15634602</td>\n",
       "      <td>Hargrave</td>\n",
       "      <td>619</td>\n",
       "      <td>France</td>\n",
       "      <td>Female</td>\n",
       "      <td>42</td>\n",
       "      <td>2.0</td>\n",
       "      <td>0.00</td>\n",
       "      <td>1</td>\n",
       "      <td>1</td>\n",
       "      <td>1</td>\n",
       "      <td>101348.88</td>\n",
       "      <td>1</td>\n",
       "    </tr>\n",
       "    <tr>\n",
       "      <th>1</th>\n",
       "      <td>2</td>\n",
       "      <td>15647311</td>\n",
       "      <td>Hill</td>\n",
       "      <td>608</td>\n",
       "      <td>Spain</td>\n",
       "      <td>Female</td>\n",
       "      <td>41</td>\n",
       "      <td>1.0</td>\n",
       "      <td>83807.86</td>\n",
       "      <td>1</td>\n",
       "      <td>0</td>\n",
       "      <td>1</td>\n",
       "      <td>112542.58</td>\n",
       "      <td>0</td>\n",
       "    </tr>\n",
       "    <tr>\n",
       "      <th>2</th>\n",
       "      <td>3</td>\n",
       "      <td>15619304</td>\n",
       "      <td>Onio</td>\n",
       "      <td>502</td>\n",
       "      <td>France</td>\n",
       "      <td>Female</td>\n",
       "      <td>42</td>\n",
       "      <td>8.0</td>\n",
       "      <td>159660.80</td>\n",
       "      <td>3</td>\n",
       "      <td>1</td>\n",
       "      <td>0</td>\n",
       "      <td>113931.57</td>\n",
       "      <td>1</td>\n",
       "    </tr>\n",
       "    <tr>\n",
       "      <th>3</th>\n",
       "      <td>4</td>\n",
       "      <td>15701354</td>\n",
       "      <td>Boni</td>\n",
       "      <td>699</td>\n",
       "      <td>France</td>\n",
       "      <td>Female</td>\n",
       "      <td>39</td>\n",
       "      <td>1.0</td>\n",
       "      <td>0.00</td>\n",
       "      <td>2</td>\n",
       "      <td>0</td>\n",
       "      <td>0</td>\n",
       "      <td>93826.63</td>\n",
       "      <td>0</td>\n",
       "    </tr>\n",
       "    <tr>\n",
       "      <th>4</th>\n",
       "      <td>5</td>\n",
       "      <td>15737888</td>\n",
       "      <td>Mitchell</td>\n",
       "      <td>850</td>\n",
       "      <td>Spain</td>\n",
       "      <td>Female</td>\n",
       "      <td>43</td>\n",
       "      <td>2.0</td>\n",
       "      <td>125510.82</td>\n",
       "      <td>1</td>\n",
       "      <td>1</td>\n",
       "      <td>1</td>\n",
       "      <td>79084.10</td>\n",
       "      <td>0</td>\n",
       "    </tr>\n",
       "  </tbody>\n",
       "</table>\n",
       "</div>"
      ],
      "text/plain": [
       "   RowNumber  CustomerId   Surname  CreditScore Geography  Gender  Age  \\\n",
       "0          1    15634602  Hargrave          619    France  Female   42   \n",
       "1          2    15647311      Hill          608     Spain  Female   41   \n",
       "2          3    15619304      Onio          502    France  Female   42   \n",
       "3          4    15701354      Boni          699    France  Female   39   \n",
       "4          5    15737888  Mitchell          850     Spain  Female   43   \n",
       "\n",
       "   Tenure    Balance  NumOfProducts  HasCrCard  IsActiveMember  \\\n",
       "0     2.0       0.00              1          1               1   \n",
       "1     1.0   83807.86              1          0               1   \n",
       "2     8.0  159660.80              3          1               0   \n",
       "3     1.0       0.00              2          0               0   \n",
       "4     2.0  125510.82              1          1               1   \n",
       "\n",
       "   EstimatedSalary  Exited  \n",
       "0        101348.88       1  \n",
       "1        112542.58       0  \n",
       "2        113931.57       1  \n",
       "3         93826.63       0  \n",
       "4         79084.10       0  "
      ]
     },
     "metadata": {},
     "output_type": "display_data"
    },
    {
     "name": "stdout",
     "output_type": "stream",
     "text": [
      "<class 'pandas.core.frame.DataFrame'>\n",
      "RangeIndex: 10000 entries, 0 to 9999\n",
      "Data columns (total 14 columns):\n",
      " #   Column           Non-Null Count  Dtype  \n",
      "---  ------           --------------  -----  \n",
      " 0   RowNumber        10000 non-null  int64  \n",
      " 1   CustomerId       10000 non-null  int64  \n",
      " 2   Surname          10000 non-null  object \n",
      " 3   CreditScore      10000 non-null  int64  \n",
      " 4   Geography        10000 non-null  object \n",
      " 5   Gender           10000 non-null  object \n",
      " 6   Age              10000 non-null  int64  \n",
      " 7   Tenure           9091 non-null   float64\n",
      " 8   Balance          10000 non-null  float64\n",
      " 9   NumOfProducts    10000 non-null  int64  \n",
      " 10  HasCrCard        10000 non-null  int64  \n",
      " 11  IsActiveMember   10000 non-null  int64  \n",
      " 12  EstimatedSalary  10000 non-null  float64\n",
      " 13  Exited           10000 non-null  int64  \n",
      "dtypes: float64(3), int64(8), object(3)\n",
      "memory usage: 1.1+ MB\n"
     ]
    }
   ],
   "source": [
    "import pandas as pd\n",
    "import numpy as np\n",
    "from random import randint\n",
    "\n",
    "from sklearn.ensemble import RandomForestClassifier\n",
    "from sklearn.tree import DecisionTreeClassifier\n",
    "from sklearn.linear_model import LogisticRegression\n",
    "from sklearn.preprocessing import StandardScaler\n",
    "from sklearn.metrics import confusion_matrix\n",
    "from sklearn.metrics import accuracy_score\n",
    "from sklearn.model_selection import train_test_split\n",
    "from sklearn.metrics import recall_score\n",
    "from sklearn.metrics import precision_score\n",
    "from sklearn.metrics import f1_score\n",
    "from sklearn.utils import shuffle\n",
    "from sklearn.metrics import roc_curve \n",
    "from sklearn.metrics import roc_auc_score\n",
    "\n",
    "import matplotlib.pyplot as plt\n",
    "from sklearn import tree\n",
    "\n",
    "df = pd.read_csv('/datasets/Churn.csv')\n",
    "pd.set_option('display.max_columns', None) # отобразим все столбцы в датасете\n",
    "display(df.head()) # для начала посмотрим на первые 5 строк таблицы с данными\n",
    "df.info() # также выведем общую информацию о таблице"
   ]
  },
  {
   "cell_type": "markdown",
   "metadata": {},
   "source": [
    "Данные состоят из таблицы с 14 столбцами. В столбцах использованы типы данных `float64`, `int64` и `object`. \n",
    "\n",
    "Описание столбцов:\n",
    "    \n",
    "* RowNumber — индекс строки в данных,\n",
    "* CustomerId — уникальный идентификатор клиента,\n",
    "* Surname — фамилия,\n",
    "* CreditScore — кредитный рейтинг,\n",
    "* Geography — страна проживания,\n",
    "* Gender — пол,\n",
    "* Age — возраст,\n",
    "* Tenure — сколько лет человек является клиентом банка,\n",
    "* Balance — баланс на счёте,\n",
    "* NumOfProducts — количество продуктов банка, используемых клиентом,\n",
    "* HasCrCard — наличие кредитной карты,\n",
    "* IsActiveMember — активность клиента,\n",
    "* EstimatedSalary — предполагаемая зарплата,\n",
    "* Exited — факт ухода клиента (целевой признак). \n",
    "\n",
    "\n",
    "Тип данных столбца Tenure нужно изменить на целочисленный, так как в нём заполнены только целые значения количества лет, которые человек является клиентом банка. В столбце Tenure также есть пропуски данных."
   ]
  },
  {
   "cell_type": "code",
   "execution_count": 2,
   "metadata": {},
   "outputs": [
    {
     "data": {
      "text/plain": [
       "count    9091.000000\n",
       "mean        4.997690\n",
       "std         2.894723\n",
       "min         0.000000\n",
       "25%         2.000000\n",
       "50%         5.000000\n",
       "75%         7.000000\n",
       "max        10.000000\n",
       "Name: Tenure, dtype: float64"
      ]
     },
     "execution_count": 2,
     "metadata": {},
     "output_type": "execute_result"
    }
   ],
   "source": [
    "df['Tenure'].describe()"
   ]
  },
  {
   "cell_type": "markdown",
   "metadata": {},
   "source": [
    "Природа пропусков столбца Tenure неизвестна и я решила их заполнить рандомными числами в диапазоне от 0 до 10, исходя из описательных статистик столбца Tenure, чтобы не влиять на распределение. "
   ]
  },
  {
   "cell_type": "code",
   "execution_count": 3,
   "metadata": {},
   "outputs": [],
   "source": [
    "df['Tenure'] = df['Tenure'].fillna(randint(0,10))"
   ]
  },
  {
   "cell_type": "markdown",
   "metadata": {},
   "source": [
    "Изменим тип данных в столбце Tenure с вещественного на целочисленный, так как в этом столбце хранится полное количество лет, измеряемое целыми положительными числами."
   ]
  },
  {
   "cell_type": "code",
   "execution_count": 4,
   "metadata": {},
   "outputs": [
    {
     "data": {
      "text/plain": [
       "count    10000.000000\n",
       "mean         5.179700\n",
       "std          2.819398\n",
       "min          0.000000\n",
       "25%          3.000000\n",
       "50%          5.000000\n",
       "75%          7.000000\n",
       "max         10.000000\n",
       "Name: Tenure, dtype: float64"
      ]
     },
     "execution_count": 4,
     "metadata": {},
     "output_type": "execute_result"
    }
   ],
   "source": [
    "df['Tenure'].describe()"
   ]
  },
  {
   "cell_type": "code",
   "execution_count": 5,
   "metadata": {},
   "outputs": [],
   "source": [
    "df['Tenure'] = df['Tenure'].astype('int64')"
   ]
  },
  {
   "cell_type": "code",
   "execution_count": 6,
   "metadata": {},
   "outputs": [
    {
     "name": "stdout",
     "output_type": "stream",
     "text": [
      "<class 'pandas.core.frame.DataFrame'>\n",
      "RangeIndex: 10000 entries, 0 to 9999\n",
      "Data columns (total 14 columns):\n",
      " #   Column           Non-Null Count  Dtype  \n",
      "---  ------           --------------  -----  \n",
      " 0   RowNumber        10000 non-null  int64  \n",
      " 1   CustomerId       10000 non-null  int64  \n",
      " 2   Surname          10000 non-null  object \n",
      " 3   CreditScore      10000 non-null  int64  \n",
      " 4   Geography        10000 non-null  object \n",
      " 5   Gender           10000 non-null  object \n",
      " 6   Age              10000 non-null  int64  \n",
      " 7   Tenure           10000 non-null  int64  \n",
      " 8   Balance          10000 non-null  float64\n",
      " 9   NumOfProducts    10000 non-null  int64  \n",
      " 10  HasCrCard        10000 non-null  int64  \n",
      " 11  IsActiveMember   10000 non-null  int64  \n",
      " 12  EstimatedSalary  10000 non-null  float64\n",
      " 13  Exited           10000 non-null  int64  \n",
      "dtypes: float64(2), int64(9), object(3)\n",
      "memory usage: 1.1+ MB\n"
     ]
    }
   ],
   "source": [
    "df.info()"
   ]
  },
  {
   "cell_type": "markdown",
   "metadata": {},
   "source": [
    "Удалим столбцы RowNumber, CustomerId, Surname, которые могут снизить качество модели при её обучении. От этих столбцов предсказания оттока клиентов не зависит."
   ]
  },
  {
   "cell_type": "code",
   "execution_count": 7,
   "metadata": {},
   "outputs": [],
   "source": [
    "df = df.drop(['RowNumber', 'CustomerId', 'Surname'], axis=1)"
   ]
  },
  {
   "cell_type": "markdown",
   "metadata": {},
   "source": [
    "Преобразуем категориальные признаки в численные с помощью техники прямого кодирования (One-Hot Encoding). "
   ]
  },
  {
   "cell_type": "code",
   "execution_count": 8,
   "metadata": {
    "scrolled": true
   },
   "outputs": [
    {
     "data": {
      "text/html": [
       "<div>\n",
       "<style scoped>\n",
       "    .dataframe tbody tr th:only-of-type {\n",
       "        vertical-align: middle;\n",
       "    }\n",
       "\n",
       "    .dataframe tbody tr th {\n",
       "        vertical-align: top;\n",
       "    }\n",
       "\n",
       "    .dataframe thead th {\n",
       "        text-align: right;\n",
       "    }\n",
       "</style>\n",
       "<table border=\"1\" class=\"dataframe\">\n",
       "  <thead>\n",
       "    <tr style=\"text-align: right;\">\n",
       "      <th></th>\n",
       "      <th>CreditScore</th>\n",
       "      <th>Age</th>\n",
       "      <th>Tenure</th>\n",
       "      <th>Balance</th>\n",
       "      <th>NumOfProducts</th>\n",
       "      <th>HasCrCard</th>\n",
       "      <th>IsActiveMember</th>\n",
       "      <th>EstimatedSalary</th>\n",
       "      <th>Exited</th>\n",
       "      <th>Geography_Germany</th>\n",
       "      <th>Geography_Spain</th>\n",
       "      <th>Gender_Male</th>\n",
       "    </tr>\n",
       "  </thead>\n",
       "  <tbody>\n",
       "    <tr>\n",
       "      <th>0</th>\n",
       "      <td>619</td>\n",
       "      <td>42</td>\n",
       "      <td>2</td>\n",
       "      <td>0.00</td>\n",
       "      <td>1</td>\n",
       "      <td>1</td>\n",
       "      <td>1</td>\n",
       "      <td>101348.88</td>\n",
       "      <td>1</td>\n",
       "      <td>0</td>\n",
       "      <td>0</td>\n",
       "      <td>0</td>\n",
       "    </tr>\n",
       "    <tr>\n",
       "      <th>1</th>\n",
       "      <td>608</td>\n",
       "      <td>41</td>\n",
       "      <td>1</td>\n",
       "      <td>83807.86</td>\n",
       "      <td>1</td>\n",
       "      <td>0</td>\n",
       "      <td>1</td>\n",
       "      <td>112542.58</td>\n",
       "      <td>0</td>\n",
       "      <td>0</td>\n",
       "      <td>1</td>\n",
       "      <td>0</td>\n",
       "    </tr>\n",
       "    <tr>\n",
       "      <th>2</th>\n",
       "      <td>502</td>\n",
       "      <td>42</td>\n",
       "      <td>8</td>\n",
       "      <td>159660.80</td>\n",
       "      <td>3</td>\n",
       "      <td>1</td>\n",
       "      <td>0</td>\n",
       "      <td>113931.57</td>\n",
       "      <td>1</td>\n",
       "      <td>0</td>\n",
       "      <td>0</td>\n",
       "      <td>0</td>\n",
       "    </tr>\n",
       "    <tr>\n",
       "      <th>3</th>\n",
       "      <td>699</td>\n",
       "      <td>39</td>\n",
       "      <td>1</td>\n",
       "      <td>0.00</td>\n",
       "      <td>2</td>\n",
       "      <td>0</td>\n",
       "      <td>0</td>\n",
       "      <td>93826.63</td>\n",
       "      <td>0</td>\n",
       "      <td>0</td>\n",
       "      <td>0</td>\n",
       "      <td>0</td>\n",
       "    </tr>\n",
       "    <tr>\n",
       "      <th>4</th>\n",
       "      <td>850</td>\n",
       "      <td>43</td>\n",
       "      <td>2</td>\n",
       "      <td>125510.82</td>\n",
       "      <td>1</td>\n",
       "      <td>1</td>\n",
       "      <td>1</td>\n",
       "      <td>79084.10</td>\n",
       "      <td>0</td>\n",
       "      <td>0</td>\n",
       "      <td>1</td>\n",
       "      <td>0</td>\n",
       "    </tr>\n",
       "  </tbody>\n",
       "</table>\n",
       "</div>"
      ],
      "text/plain": [
       "   CreditScore  Age  Tenure    Balance  NumOfProducts  HasCrCard  \\\n",
       "0          619   42       2       0.00              1          1   \n",
       "1          608   41       1   83807.86              1          0   \n",
       "2          502   42       8  159660.80              3          1   \n",
       "3          699   39       1       0.00              2          0   \n",
       "4          850   43       2  125510.82              1          1   \n",
       "\n",
       "   IsActiveMember  EstimatedSalary  Exited  Geography_Germany  \\\n",
       "0               1        101348.88       1                  0   \n",
       "1               1        112542.58       0                  0   \n",
       "2               0        113931.57       1                  0   \n",
       "3               0         93826.63       0                  0   \n",
       "4               1         79084.10       0                  0   \n",
       "\n",
       "   Geography_Spain  Gender_Male  \n",
       "0                0            0  \n",
       "1                1            0  \n",
       "2                0            0  \n",
       "3                0            0  \n",
       "4                1            0  "
      ]
     },
     "execution_count": 8,
     "metadata": {},
     "output_type": "execute_result"
    }
   ],
   "source": [
    "df_ohe = pd.get_dummies(df, drop_first=True)\n",
    "df_ohe.head()"
   ]
  },
  {
   "cell_type": "markdown",
   "metadata": {},
   "source": [
    "Разобьём датасет на три выборки: обучающую, валидационную и тестовую, как правило, можно использовать разделение 3:1:1."
   ]
  },
  {
   "cell_type": "code",
   "execution_count": 9,
   "metadata": {
    "scrolled": true
   },
   "outputs": [
    {
     "name": "stdout",
     "output_type": "stream",
     "text": [
      "<class 'pandas.core.frame.DataFrame'>\n",
      "Int64Index: 2000 entries, 7867 to 694\n",
      "Data columns (total 12 columns):\n",
      " #   Column             Non-Null Count  Dtype  \n",
      "---  ------             --------------  -----  \n",
      " 0   CreditScore        2000 non-null   int64  \n",
      " 1   Age                2000 non-null   int64  \n",
      " 2   Tenure             2000 non-null   int64  \n",
      " 3   Balance            2000 non-null   float64\n",
      " 4   NumOfProducts      2000 non-null   int64  \n",
      " 5   HasCrCard          2000 non-null   int64  \n",
      " 6   IsActiveMember     2000 non-null   int64  \n",
      " 7   EstimatedSalary    2000 non-null   float64\n",
      " 8   Exited             2000 non-null   int64  \n",
      " 9   Geography_Germany  2000 non-null   uint8  \n",
      " 10  Geography_Spain    2000 non-null   uint8  \n",
      " 11  Gender_Male        2000 non-null   uint8  \n",
      "dtypes: float64(2), int64(7), uint8(3)\n",
      "memory usage: 162.1 KB\n"
     ]
    }
   ],
   "source": [
    "# 1. отделим 20% данных для тестовой выборки\n",
    "df_valid_train, df_test = train_test_split(df_ohe, test_size=0.20, random_state=12345) \n",
    "\n",
    "# проверим, что в тестовой выборке 20% данных\n",
    "df_test.info() "
   ]
  },
  {
   "cell_type": "code",
   "execution_count": 10,
   "metadata": {
    "scrolled": true
   },
   "outputs": [
    {
     "name": "stdout",
     "output_type": "stream",
     "text": [
      "<class 'pandas.core.frame.DataFrame'>\n",
      "Int64Index: 2000 entries, 2358 to 4995\n",
      "Data columns (total 12 columns):\n",
      " #   Column             Non-Null Count  Dtype  \n",
      "---  ------             --------------  -----  \n",
      " 0   CreditScore        2000 non-null   int64  \n",
      " 1   Age                2000 non-null   int64  \n",
      " 2   Tenure             2000 non-null   int64  \n",
      " 3   Balance            2000 non-null   float64\n",
      " 4   NumOfProducts      2000 non-null   int64  \n",
      " 5   HasCrCard          2000 non-null   int64  \n",
      " 6   IsActiveMember     2000 non-null   int64  \n",
      " 7   EstimatedSalary    2000 non-null   float64\n",
      " 8   Exited             2000 non-null   int64  \n",
      " 9   Geography_Germany  2000 non-null   uint8  \n",
      " 10  Geography_Spain    2000 non-null   uint8  \n",
      " 11  Gender_Male        2000 non-null   uint8  \n",
      "dtypes: float64(2), int64(7), uint8(3)\n",
      "memory usage: 162.1 KB\n"
     ]
    }
   ],
   "source": [
    "# 2. отделим 20% данных для валидационной выборки, \n",
    "# т.к. мы уже отделили часть, то от оставшейся части данных нужно взять 25%, \n",
    "# чтобы получить валидационную выборку, равную тестовой по размеру\n",
    "df_train, df_valid = train_test_split(df_valid_train, test_size=0.25, random_state=12345) \n",
    "\n",
    "# проверим, что в вылидационной выборке 20% данных\n",
    "df_valid.info() "
   ]
  },
  {
   "cell_type": "code",
   "execution_count": 11,
   "metadata": {
    "scrolled": true
   },
   "outputs": [
    {
     "name": "stdout",
     "output_type": "stream",
     "text": [
      "<class 'pandas.core.frame.DataFrame'>\n",
      "Int64Index: 6000 entries, 492 to 3295\n",
      "Data columns (total 12 columns):\n",
      " #   Column             Non-Null Count  Dtype  \n",
      "---  ------             --------------  -----  \n",
      " 0   CreditScore        6000 non-null   int64  \n",
      " 1   Age                6000 non-null   int64  \n",
      " 2   Tenure             6000 non-null   int64  \n",
      " 3   Balance            6000 non-null   float64\n",
      " 4   NumOfProducts      6000 non-null   int64  \n",
      " 5   HasCrCard          6000 non-null   int64  \n",
      " 6   IsActiveMember     6000 non-null   int64  \n",
      " 7   EstimatedSalary    6000 non-null   float64\n",
      " 8   Exited             6000 non-null   int64  \n",
      " 9   Geography_Germany  6000 non-null   uint8  \n",
      " 10  Geography_Spain    6000 non-null   uint8  \n",
      " 11  Gender_Male        6000 non-null   uint8  \n",
      "dtypes: float64(2), int64(7), uint8(3)\n",
      "memory usage: 486.3 KB\n"
     ]
    }
   ],
   "source": [
    "df_train.info()"
   ]
  },
  {
   "cell_type": "code",
   "execution_count": 12,
   "metadata": {},
   "outputs": [],
   "source": [
    "# для каждой выборки разделим данные на признаки и целевой признак\n",
    "\n",
    "features_train = df_train.drop(['Exited'], axis=1)\n",
    "target_train = df_train['Exited']\n",
    "\n",
    "features_test = df_test.drop(['Exited'], axis=1)\n",
    "target_test = df_test['Exited'] \n",
    "\n",
    "features_valid = df_valid.drop(['Exited'], axis=1)\n",
    "target_valid = df_valid['Exited']"
   ]
  },
  {
   "cell_type": "markdown",
   "metadata": {},
   "source": [
    "Отмасштабируем численные признаки с помощью метода стандартизации данных."
   ]
  },
  {
   "cell_type": "code",
   "execution_count": 13,
   "metadata": {},
   "outputs": [],
   "source": [
    "numeric = ['CreditScore', 'Age', 'Tenure', 'Balance', \n",
    "           'NumOfProducts', 'EstimatedSalary']\n",
    "scaler = StandardScaler()\n",
    "scaler.fit(features_train[numeric])\n",
    "features_train[numeric] = scaler.transform(features_train[numeric])\n",
    "features_valid[numeric] = scaler.transform(features_valid[numeric])\n",
    "features_test[numeric] = scaler.transform(features_test[numeric])"
   ]
  },
  {
   "cell_type": "code",
   "execution_count": 14,
   "metadata": {},
   "outputs": [
    {
     "data": {
      "text/html": [
       "<div>\n",
       "<style scoped>\n",
       "    .dataframe tbody tr th:only-of-type {\n",
       "        vertical-align: middle;\n",
       "    }\n",
       "\n",
       "    .dataframe tbody tr th {\n",
       "        vertical-align: top;\n",
       "    }\n",
       "\n",
       "    .dataframe thead th {\n",
       "        text-align: right;\n",
       "    }\n",
       "</style>\n",
       "<table border=\"1\" class=\"dataframe\">\n",
       "  <thead>\n",
       "    <tr style=\"text-align: right;\">\n",
       "      <th></th>\n",
       "      <th>CreditScore</th>\n",
       "      <th>Age</th>\n",
       "      <th>Tenure</th>\n",
       "      <th>Balance</th>\n",
       "      <th>NumOfProducts</th>\n",
       "      <th>HasCrCard</th>\n",
       "      <th>IsActiveMember</th>\n",
       "      <th>EstimatedSalary</th>\n",
       "      <th>Geography_Germany</th>\n",
       "      <th>Geography_Spain</th>\n",
       "      <th>Gender_Male</th>\n",
       "    </tr>\n",
       "  </thead>\n",
       "  <tbody>\n",
       "    <tr>\n",
       "      <th>492</th>\n",
       "      <td>-0.134048</td>\n",
       "      <td>-0.078068</td>\n",
       "      <td>-0.428516</td>\n",
       "      <td>0.076163</td>\n",
       "      <td>0.816929</td>\n",
       "      <td>0</td>\n",
       "      <td>1</td>\n",
       "      <td>0.331571</td>\n",
       "      <td>0</td>\n",
       "      <td>0</td>\n",
       "      <td>0</td>\n",
       "    </tr>\n",
       "    <tr>\n",
       "      <th>6655</th>\n",
       "      <td>-1.010798</td>\n",
       "      <td>0.494555</td>\n",
       "      <td>0.633482</td>\n",
       "      <td>0.136391</td>\n",
       "      <td>-0.896909</td>\n",
       "      <td>1</td>\n",
       "      <td>1</td>\n",
       "      <td>-0.727858</td>\n",
       "      <td>0</td>\n",
       "      <td>0</td>\n",
       "      <td>1</td>\n",
       "    </tr>\n",
       "  </tbody>\n",
       "</table>\n",
       "</div>"
      ],
      "text/plain": [
       "      CreditScore       Age    Tenure   Balance  NumOfProducts  HasCrCard  \\\n",
       "492     -0.134048 -0.078068 -0.428516  0.076163       0.816929          0   \n",
       "6655    -1.010798  0.494555  0.633482  0.136391      -0.896909          1   \n",
       "\n",
       "      IsActiveMember  EstimatedSalary  Geography_Germany  Geography_Spain  \\\n",
       "492                1         0.331571                  0                0   \n",
       "6655               1        -0.727858                  0                0   \n",
       "\n",
       "      Gender_Male  \n",
       "492             0  \n",
       "6655            1  "
      ]
     },
     "execution_count": 14,
     "metadata": {},
     "output_type": "execute_result"
    }
   ],
   "source": [
    "features_train.head(2)"
   ]
  },
  {
   "cell_type": "code",
   "execution_count": 15,
   "metadata": {},
   "outputs": [
    {
     "data": {
      "text/html": [
       "<div>\n",
       "<style scoped>\n",
       "    .dataframe tbody tr th:only-of-type {\n",
       "        vertical-align: middle;\n",
       "    }\n",
       "\n",
       "    .dataframe tbody tr th {\n",
       "        vertical-align: top;\n",
       "    }\n",
       "\n",
       "    .dataframe thead th {\n",
       "        text-align: right;\n",
       "    }\n",
       "</style>\n",
       "<table border=\"1\" class=\"dataframe\">\n",
       "  <thead>\n",
       "    <tr style=\"text-align: right;\">\n",
       "      <th></th>\n",
       "      <th>CreditScore</th>\n",
       "      <th>Age</th>\n",
       "      <th>Tenure</th>\n",
       "      <th>Balance</th>\n",
       "      <th>NumOfProducts</th>\n",
       "      <th>HasCrCard</th>\n",
       "      <th>IsActiveMember</th>\n",
       "      <th>EstimatedSalary</th>\n",
       "      <th>Geography_Germany</th>\n",
       "      <th>Geography_Spain</th>\n",
       "      <th>Gender_Male</th>\n",
       "    </tr>\n",
       "  </thead>\n",
       "  <tbody>\n",
       "    <tr>\n",
       "      <th>2358</th>\n",
       "      <td>0.175393</td>\n",
       "      <td>0.399118</td>\n",
       "      <td>-1.490514</td>\n",
       "      <td>1.385698</td>\n",
       "      <td>-0.896909</td>\n",
       "      <td>0</td>\n",
       "      <td>1</td>\n",
       "      <td>-1.466761</td>\n",
       "      <td>0</td>\n",
       "      <td>0</td>\n",
       "      <td>1</td>\n",
       "    </tr>\n",
       "    <tr>\n",
       "      <th>8463</th>\n",
       "      <td>-1.299609</td>\n",
       "      <td>0.971741</td>\n",
       "      <td>-1.136515</td>\n",
       "      <td>-1.232442</td>\n",
       "      <td>-0.896909</td>\n",
       "      <td>1</td>\n",
       "      <td>0</td>\n",
       "      <td>0.254415</td>\n",
       "      <td>0</td>\n",
       "      <td>1</td>\n",
       "      <td>1</td>\n",
       "    </tr>\n",
       "  </tbody>\n",
       "</table>\n",
       "</div>"
      ],
      "text/plain": [
       "      CreditScore       Age    Tenure   Balance  NumOfProducts  HasCrCard  \\\n",
       "2358     0.175393  0.399118 -1.490514  1.385698      -0.896909          0   \n",
       "8463    -1.299609  0.971741 -1.136515 -1.232442      -0.896909          1   \n",
       "\n",
       "      IsActiveMember  EstimatedSalary  Geography_Germany  Geography_Spain  \\\n",
       "2358               1        -1.466761                  0                0   \n",
       "8463               0         0.254415                  0                1   \n",
       "\n",
       "      Gender_Male  \n",
       "2358            1  \n",
       "8463            1  "
      ]
     },
     "execution_count": 15,
     "metadata": {},
     "output_type": "execute_result"
    }
   ],
   "source": [
    "features_valid.head(2)"
   ]
  },
  {
   "cell_type": "code",
   "execution_count": 16,
   "metadata": {},
   "outputs": [
    {
     "data": {
      "text/html": [
       "<div>\n",
       "<style scoped>\n",
       "    .dataframe tbody tr th:only-of-type {\n",
       "        vertical-align: middle;\n",
       "    }\n",
       "\n",
       "    .dataframe tbody tr th {\n",
       "        vertical-align: top;\n",
       "    }\n",
       "\n",
       "    .dataframe thead th {\n",
       "        text-align: right;\n",
       "    }\n",
       "</style>\n",
       "<table border=\"1\" class=\"dataframe\">\n",
       "  <thead>\n",
       "    <tr style=\"text-align: right;\">\n",
       "      <th></th>\n",
       "      <th>CreditScore</th>\n",
       "      <th>Age</th>\n",
       "      <th>Tenure</th>\n",
       "      <th>Balance</th>\n",
       "      <th>NumOfProducts</th>\n",
       "      <th>HasCrCard</th>\n",
       "      <th>IsActiveMember</th>\n",
       "      <th>EstimatedSalary</th>\n",
       "      <th>Geography_Germany</th>\n",
       "      <th>Geography_Spain</th>\n",
       "      <th>Gender_Male</th>\n",
       "    </tr>\n",
       "  </thead>\n",
       "  <tbody>\n",
       "    <tr>\n",
       "      <th>7867</th>\n",
       "      <td>-0.123733</td>\n",
       "      <td>0.685430</td>\n",
       "      <td>-0.782516</td>\n",
       "      <td>-1.232442</td>\n",
       "      <td>-0.896909</td>\n",
       "      <td>1</td>\n",
       "      <td>1</td>\n",
       "      <td>0.980212</td>\n",
       "      <td>0</td>\n",
       "      <td>1</td>\n",
       "      <td>0</td>\n",
       "    </tr>\n",
       "    <tr>\n",
       "      <th>1402</th>\n",
       "      <td>1.083087</td>\n",
       "      <td>-0.937002</td>\n",
       "      <td>0.987481</td>\n",
       "      <td>0.858518</td>\n",
       "      <td>-0.896909</td>\n",
       "      <td>1</td>\n",
       "      <td>0</td>\n",
       "      <td>-0.390486</td>\n",
       "      <td>0</td>\n",
       "      <td>0</td>\n",
       "      <td>1</td>\n",
       "    </tr>\n",
       "  </tbody>\n",
       "</table>\n",
       "</div>"
      ],
      "text/plain": [
       "      CreditScore       Age    Tenure   Balance  NumOfProducts  HasCrCard  \\\n",
       "7867    -0.123733  0.685430 -0.782516 -1.232442      -0.896909          1   \n",
       "1402     1.083087 -0.937002  0.987481  0.858518      -0.896909          1   \n",
       "\n",
       "      IsActiveMember  EstimatedSalary  Geography_Germany  Geography_Spain  \\\n",
       "7867               1         0.980212                  0                1   \n",
       "1402               0        -0.390486                  0                0   \n",
       "\n",
       "      Gender_Male  \n",
       "7867            0  \n",
       "1402            1  "
      ]
     },
     "execution_count": 16,
     "metadata": {},
     "output_type": "execute_result"
    }
   ],
   "source": [
    "features_test.head(2)"
   ]
  },
  {
   "cell_type": "markdown",
   "metadata": {},
   "source": [
    "Исходный набор данных разбит на обучающую, валидационную и тестовую выборки. Выделены признаки (features), по которым будет предсказан целевой признак (target). Численные признаки отмасштабированы, для категориальных признаков использована техника прямого кодирования."
   ]
  },
  {
   "cell_type": "markdown",
   "metadata": {},
   "source": [
    "## Исследование задачи"
   ]
  },
  {
   "cell_type": "markdown",
   "metadata": {},
   "source": [
    "Исследование оттока клиентов - это задача бинарной классификации. \n",
    "Исследуем качество разных моделей на примере изученных в спринте: \n",
    "* дерево решений,\n",
    "* случайный лес,\n",
    "* логистическая регрессии."
   ]
  },
  {
   "cell_type": "code",
   "execution_count": 17,
   "metadata": {},
   "outputs": [
    {
     "name": "stdout",
     "output_type": "stream",
     "text": [
      "max_depth: 1 F1: 0.0\n",
      "max_depth: 2 F1: 0.5037037037037037\n",
      "max_depth: 3 F1: 0.39382239382239387\n",
      "max_depth: 4 F1: 0.430188679245283\n",
      "max_depth: 5 F1: 0.5488372093023256\n",
      "max_depth: 6 F1: 0.5113043478260869\n",
      "max_depth: 7 F1: 0.5557299843014128\n",
      "max_depth: 8 F1: 0.5398773006134968\n",
      "max_depth: 9 F1: 0.5337331334332833\n",
      "max_depth: 10 F1: 0.5348837209302326\n",
      "max_depth: 11 F1: 0.5214899713467048\n",
      "max_depth: 12 F1: 0.5113636363636364\n",
      "max_depth: 13 F1: 0.5101214574898785\n",
      "max_depth: 14 F1: 0.5013550135501355\n"
     ]
    }
   ],
   "source": [
    "#сначала посмотрим модель дерева решений\n",
    "for depth in range(1,15,1):\n",
    "    model = DecisionTreeClassifier(max_depth=depth, random_state=12345)\n",
    "    model.fit(features_train, target_train)\n",
    "    predictions_valid = model.predict(features_valid)\n",
    "    print('max_depth:',depth,'F1:',f1_score(target_valid, predictions_valid))"
   ]
  },
  {
   "cell_type": "markdown",
   "metadata": {},
   "source": [
    "Лучшее значение модели дерева решений достигается на max_depth=7, при котором F1=0,5556"
   ]
  },
  {
   "cell_type": "code",
   "execution_count": 18,
   "metadata": {},
   "outputs": [],
   "source": [
    "#лучшую модель сохраним в переменной\n",
    "model_tree = DecisionTreeClassifier(max_depth=7, random_state=12345)\n",
    "model_tree.fit(features_train, target_train)\n",
    "\n",
    "tree_predicted_valid = model_tree.predict(features_valid)"
   ]
  },
  {
   "cell_type": "code",
   "execution_count": 19,
   "metadata": {
    "scrolled": false
   },
   "outputs": [
    {
     "name": "stdout",
     "output_type": "stream",
     "text": [
      "max_depth: 19 n_estimators: 7 F1: 0.5832106038291606\n"
     ]
    }
   ],
   "source": [
    "#далее исследуем модель случайный лес \n",
    "best_depth = 0\n",
    "best_estimators = 0\n",
    "best_result = 0    \n",
    "for depth in range(1, 20, 1):\n",
    "    for estimators in range(1, 80, 2):\n",
    "        model=RandomForestClassifier(max_depth=depth, \n",
    "                                     n_estimators=estimators,\n",
    "                                     random_state=1234)\n",
    "        \n",
    "        model.fit(features_train, target_train)\n",
    "        predictions_valid=model.predict(features_valid)\n",
    "        result = f1_score(target_valid, predictions_valid)\n",
    "\n",
    "        if best_result < result:\n",
    "            best_result = result\n",
    "            best_estimators = estimators\n",
    "            best_depth = depth\n",
    "            \n",
    "            \n",
    "print('max_depth:', best_depth, \n",
    "      'n_estimators:', best_estimators,\n",
    "      'F1:', best_result) "
   ]
  },
  {
   "cell_type": "markdown",
   "metadata": {},
   "source": [
    "Лучшее значение модели случайный лес достигается на max_depth=19,n_estimators: 7, при котором F1=0,5831"
   ]
  },
  {
   "cell_type": "code",
   "execution_count": 20,
   "metadata": {},
   "outputs": [],
   "source": [
    "# лучшую модель сохраним в переменной\n",
    "model_forest = RandomForestClassifier(max_depth=19, random_state=12345, n_estimators=7) \n",
    "model_forest.fit(features_train, target_train)\n",
    "forest_predicted_valid = model_forest.predict(features_valid)"
   ]
  },
  {
   "cell_type": "code",
   "execution_count": 21,
   "metadata": {},
   "outputs": [
    {
     "name": "stdout",
     "output_type": "stream",
     "text": [
      "F1: 0.30451127819548873\n"
     ]
    }
   ],
   "source": [
    "# наконец рассмотрим работу модели логистической регрессии\n",
    "\n",
    "model_regression = LogisticRegression(random_state=12345)\n",
    "model_regression.fit(features_train, target_train)\n",
    "regression_predicted_valid = model_regression.predict(features_valid)\n",
    "print('F1:',f1_score(target_valid,regression_predicted_valid))"
   ]
  },
  {
   "cell_type": "markdown",
   "metadata": {},
   "source": [
    "У модели логической регрессии получилась самая низкая точность."
   ]
  },
  {
   "cell_type": "markdown",
   "metadata": {},
   "source": [
    "Чтобы оценить адекватность модели, проверим, как часто в целевом признаке встречается класс «1» или «0»."
   ]
  },
  {
   "cell_type": "code",
   "execution_count": 22,
   "metadata": {
    "scrolled": true
   },
   "outputs": [
    {
     "name": "stdout",
     "output_type": "stream",
     "text": [
      "0    0.7963\n",
      "1    0.2037\n",
      "Name: Exited, dtype: float64\n"
     ]
    },
    {
     "data": {
      "text/plain": [
       "<AxesSubplot:>"
      ]
     },
     "execution_count": 22,
     "metadata": {},
     "output_type": "execute_result"
    },
    {
     "data": {
      "image/png": "[encoded data removed]",
      "text/plain": [
       "<Figure size 432x288 with 1 Axes>"
      ]
     },
     "metadata": {
      "needs_background": "light"
     },
     "output_type": "display_data"
    }
   ],
   "source": [
    "class_frequency = df_ohe['Exited'].value_counts(normalize=True)\n",
    "print(class_frequency)\n",
    "class_frequency.plot(kind='bar')"
   ]
  },
  {
   "cell_type": "markdown",
   "metadata": {},
   "source": [
    "Из диаграммы видно, что классы не сбалансированы. "
   ]
  },
  {
   "cell_type": "markdown",
   "metadata": {},
   "source": [
    "Построим матрицу ошибок для каждой модели:"
   ]
  },
  {
   "cell_type": "code",
   "execution_count": 23,
   "metadata": {
    "scrolled": true
   },
   "outputs": [
    {
     "data": {
      "text/plain": [
       "array([[1540,   69],\n",
       "       [ 214,  177]])"
      ]
     },
     "execution_count": 23,
     "metadata": {},
     "output_type": "execute_result"
    }
   ],
   "source": [
    "model_tree = confusion_matrix(target_valid, tree_predicted_valid)\n",
    "model_tree"
   ]
  },
  {
   "cell_type": "code",
   "execution_count": 24,
   "metadata": {},
   "outputs": [
    {
     "data": {
      "text/plain": [
       "array([[1503,  106],\n",
       "       [ 204,  187]])"
      ]
     },
     "execution_count": 24,
     "metadata": {},
     "output_type": "execute_result"
    }
   ],
   "source": [
    "model_forest = confusion_matrix(target_valid, forest_predicted_valid)\n",
    "model_forest"
   ]
  },
  {
   "cell_type": "code",
   "execution_count": 25,
   "metadata": {},
   "outputs": [
    {
     "data": {
      "text/plain": [
       "array([[1549,   60],\n",
       "       [ 310,   81]])"
      ]
     },
     "execution_count": 25,
     "metadata": {},
     "output_type": "execute_result"
    }
   ],
   "source": [
    "model_regression = confusion_matrix(target_valid, regression_predicted_valid)\n",
    "model_regression"
   ]
  },
  {
   "cell_type": "markdown",
   "metadata": {},
   "source": [
    "В матрице на диагонали расположены верные предсказания моделей, вне диагонали - ошибочные. Для исследования оттока клиентов важными ошибками являются False Negative ответы. Модель предсказала, что клиенты не уйдут, а они ушли и компания неожиданно потеряла деньги. Меньше всего False Negative ответов у модели случайного леса (их всего 204)."
   ]
  },
  {
   "cell_type": "markdown",
   "metadata": {},
   "source": [
    "Посчитаем полноту для каждой модели. Она определяет, какую долю положительных среди всех ответов выделила модель."
   ]
  },
  {
   "cell_type": "code",
   "execution_count": 26,
   "metadata": {},
   "outputs": [
    {
     "name": "stdout",
     "output_type": "stream",
     "text": [
      "Полнота Логистической регресии:0.21\n",
      "Полнота Решающего дерева:0.45\n",
      "Полнота Случайного леса:0.48\n"
     ]
    }
   ],
   "source": [
    "print('Полнота Логистической регресии:{:.2f}'.format(recall_score(target_valid, regression_predicted_valid)))\n",
    "print('Полнота Решающего дерева:{:.2f}'.format(recall_score(target_valid, tree_predicted_valid)))\n",
    "print('Полнота Случайного леса:{:.2f}'.format(recall_score(target_valid, forest_predicted_valid)))"
   ]
  },
  {
   "cell_type": "markdown",
   "metadata": {},
   "source": [
    "Посчитаем точность для каждой модели. Она определяет, как много отрицательных ответов нашла модель, пока искала положительные."
   ]
  },
  {
   "cell_type": "code",
   "execution_count": 27,
   "metadata": {
    "scrolled": true
   },
   "outputs": [
    {
     "name": "stdout",
     "output_type": "stream",
     "text": [
      "Точность Логистической регресии:0.57\n",
      "Точность Решающего дерева:0.72\n",
      "Точность Случайного леса:0.64\n"
     ]
    }
   ],
   "source": [
    "print('Точность Логистической регресии:{:.2f}'.format(precision_score(target_valid, regression_predicted_valid)))\n",
    "print('Точность Решающего дерева:{:.2f}'.format(precision_score(target_valid, tree_predicted_valid)))\n",
    "print('Точность Случайного леса:{:.2f}'.format(precision_score(target_valid, forest_predicted_valid)))"
   ]
  },
  {
   "cell_type": "markdown",
   "metadata": {},
   "source": [
    "В данных прослеживается дисбаланс классов. Проверку на адекватность рассмотренные модели не проходят. \n",
    "\n",
    "В исследовании качества моделей важны метрики и полноты, и точности. Рассмотрена F1-мера, которая позволяет одновременно следить за полнотой и точностью. В идеале F1-мера должна стремиться к 1, это означает, что полнота и точность стремятся к 1. Но из-за дисбаланса классов F1-мера наших моделей от единицы очень далека. "
   ]
  },
  {
   "cell_type": "markdown",
   "metadata": {},
   "source": [
    "## Борьба с дисбалансом"
   ]
  },
  {
   "cell_type": "markdown",
   "metadata": {},
   "source": [
    "### Взвешивание классов"
   ]
  },
  {
   "cell_type": "markdown",
   "metadata": {},
   "source": [
    "Придадим объектам редкого класса 1 больший вес используя гиперпараметр class_weight='balanced'"
   ]
  },
  {
   "cell_type": "code",
   "execution_count": 28,
   "metadata": {},
   "outputs": [
    {
     "name": "stdout",
     "output_type": "stream",
     "text": [
      "max_depth: 1 F1: 0.4750733137829912\n",
      "max_depth: 2 F1: 0.49761677788369874\n",
      "max_depth: 3 F1: 0.49761677788369874\n",
      "max_depth: 4 F1: 0.5170454545454546\n",
      "max_depth: 5 F1: 0.5489078822412156\n",
      "max_depth: 6 F1: 0.5587044534412956\n",
      "max_depth: 7 F1: 0.5535353535353534\n",
      "max_depth: 8 F1: 0.5454545454545454\n",
      "max_depth: 9 F1: 0.5132223310479921\n",
      "max_depth: 10 F1: 0.48942598187311176\n",
      "max_depth: 11 F1: 0.48151848151848153\n",
      "max_depth: 12 F1: 0.48625792811839325\n",
      "max_depth: 13 F1: 0.4749455337690632\n",
      "max_depth: 14 F1: 0.4983089064261555\n",
      "max_depth: 15 F1: 0.49449204406364755\n",
      "max_depth: 16 F1: 0.48588957055214727\n",
      "max_depth: 17 F1: 0.48258706467661694\n",
      "max_depth: 18 F1: 0.48402948402948404\n",
      "max_depth: 19 F1: 0.4949238578680203\n"
     ]
    }
   ],
   "source": [
    "#дерево решений\n",
    "for depth in range(1,20,1):\n",
    "    model_tree = DecisionTreeClassifier(max_depth=depth, random_state=12345,class_weight='balanced' )\n",
    "    model_tree.fit(features_train, target_train)\n",
    "    tree_predicted_valid = model_tree.predict(features_valid)\n",
    "    print('max_depth:',depth,'F1:',f1_score(target_valid, tree_predicted_valid))"
   ]
  },
  {
   "cell_type": "markdown",
   "metadata": {},
   "source": [
    "Лучший результ с глубиной 6 F1=0.5586, практически не отличается от результата с несбалансированнными данными"
   ]
  },
  {
   "cell_type": "code",
   "execution_count": 29,
   "metadata": {},
   "outputs": [
    {
     "name": "stdout",
     "output_type": "stream",
     "text": [
      "max_depth: 11 n_estimators: 100 F1: 0.6053333333333333\n"
     ]
    }
   ],
   "source": [
    "#случайный лес\n",
    "best_depth = 0\n",
    "best_estimators = 0\n",
    "best_result = 0    \n",
    "for depth in range(1, 30, 1):\n",
    "    for estimators in range(50, 150, 2):\n",
    "        model_forest=RandomForestClassifier(max_depth=depth, \n",
    "                                     n_estimators=estimators,\n",
    "                                     random_state=1234,\n",
    "                                    class_weight='balanced')\n",
    "        \n",
    "        model_forest.fit(features_train, target_train)\n",
    "        forest_predicted_valid=model_forest.predict(features_valid)\n",
    "        result = f1_score(target_valid, forest_predicted_valid)\n",
    "\n",
    "        if best_result < result:\n",
    "            best_result = result\n",
    "            best_estimators = estimators\n",
    "            best_depth = depth\n",
    "            \n",
    "            \n",
    "print('max_depth:', best_depth, \n",
    "      'n_estimators:', best_estimators,\n",
    "      'F1:', best_result) "
   ]
  },
  {
   "cell_type": "markdown",
   "metadata": {},
   "source": [
    "Лучший результат max_depth =11, n_estimators=100, при котором F1 = 0.6052. Порог 0.59 достигнут"
   ]
  },
  {
   "cell_type": "code",
   "execution_count": 30,
   "metadata": {},
   "outputs": [],
   "source": [
    "# лучшую модель сохраним в переменной\n",
    "model_forest_best = RandomForestClassifier(max_depth=11, random_state=12345, n_estimators=100) \n",
    "model_forest_best.fit(features_train, target_train)\n",
    "forest_predicted_valid = model_forest_best.predict(features_valid)"
   ]
  },
  {
   "cell_type": "code",
   "execution_count": 31,
   "metadata": {},
   "outputs": [
    {
     "name": "stdout",
     "output_type": "stream",
     "text": [
      "F1: 0.47424511545293074\n"
     ]
    }
   ],
   "source": [
    "#логистическая регрессия\n",
    "\n",
    "model_regression = LogisticRegression(random_state=12345,class_weight='balanced' )\n",
    "model_regression.fit(features_train, target_train)\n",
    "regression_predicted_valid = model_regression.predict(features_valid)\n",
    "print('F1:',f1_score(target_valid,regression_predicted_valid))"
   ]
  },
  {
   "cell_type": "markdown",
   "metadata": {},
   "source": [
    "У модели логической регрессии опять получилась самая низкая точность, но уже выше по сравнению с несбалансированными данными."
   ]
  },
  {
   "cell_type": "markdown",
   "metadata": {},
   "source": [
    "### Upsampling"
   ]
  },
  {
   "cell_type": "markdown",
   "metadata": {},
   "source": [
    "Попробуем способ борьбы с дисбалансом классов - upsampling, или увеличение выборки. Выборка будет увеличена за счет повторения объектов более редкого класса в ней. Для начала разделим обучающую выборку на отрицательные и положительные объекты:"
   ]
  },
  {
   "cell_type": "code",
   "execution_count": 32,
   "metadata": {},
   "outputs": [
    {
     "name": "stdout",
     "output_type": "stream",
     "text": [
      "(4781, 11)\n",
      "(1219, 11)\n",
      "(4781,)\n",
      "(1219,)\n"
     ]
    }
   ],
   "source": [
    "features_zeros = features_train[target_train == 0]\n",
    "features_ones = features_train[target_train == 1]\n",
    "target_zeros = target_train[target_train == 0]\n",
    "target_ones = target_train[target_train == 1]\n",
    "\n",
    "print(features_zeros.shape)\n",
    "print(features_ones.shape)\n",
    "print(target_zeros.shape)\n",
    "print(target_ones.shape)"
   ]
  },
  {
   "cell_type": "markdown",
   "metadata": {},
   "source": [
    "Затем скопируем несколько раз положительные объекты.\n",
    "\n",
    "С учётом полученных данных создадим новую обучающую выборку.\n",
    "\n",
    "Перемешаем данные с помощью функции shuffle().\n",
    "\n",
    "Чтобы объединить все действия возпользуемся функцией upsample c тремя параметрами: features — признаки, target — целевой признак, repeat — количество повторений. Функция вернёт признаки и целевой признак после операции upsampling."
   ]
  },
  {
   "cell_type": "code",
   "execution_count": 33,
   "metadata": {},
   "outputs": [
    {
     "name": "stdout",
     "output_type": "stream",
     "text": [
      "(9657, 11)\n",
      "(9657,)\n"
     ]
    }
   ],
   "source": [
    "def upsample(features, target, repeat):\n",
    "\n",
    "    features_zeros = features[target == 0]\n",
    "    features_ones = features[target == 1]\n",
    "    target_zeros = target[target == 0]\n",
    "    target_ones = target[target == 1]\n",
    "\n",
    "    repeat = 4\n",
    "    features_upsampled = pd.concat([features_zeros] + [features_ones] * repeat)\n",
    "    target_upsampled = pd.concat([target_zeros] + [target_ones] * repeat)\n",
    "    \n",
    "    features_upsampled, target_upsampled = shuffle(features_upsampled, target_upsampled, random_state=12345)\n",
    "    return features_upsampled, target_upsampled\n",
    "\n",
    "features_upsampled, target_upsampled = upsample(features_train, target_train, 4)\n",
    "\n",
    "print(features_upsampled.shape)\n",
    "print(target_upsampled.shape)"
   ]
  },
  {
   "cell_type": "markdown",
   "metadata": {},
   "source": [
    "Обучение с помощью модели Дерево решения"
   ]
  },
  {
   "cell_type": "code",
   "execution_count": 34,
   "metadata": {},
   "outputs": [
    {
     "name": "stdout",
     "output_type": "stream",
     "text": [
      "max_depth: 1 F1: 0.4750733137829912\n",
      "max_depth: 2 F1: 0.49761677788369874\n",
      "max_depth: 3 F1: 0.49761677788369874\n",
      "max_depth: 4 F1: 0.5170454545454546\n",
      "max_depth: 5 F1: 0.5489078822412156\n",
      "max_depth: 6 F1: 0.5587044534412956\n",
      "max_depth: 7 F1: 0.5549949545913219\n",
      "max_depth: 8 F1: 0.5553191489361702\n",
      "max_depth: 9 F1: 0.5122669283611384\n",
      "max_depth: 10 F1: 0.4796828543111993\n",
      "max_depth: 11 F1: 0.48643006263048016\n",
      "max_depth: 12 F1: 0.4805194805194805\n",
      "max_depth: 13 F1: 0.4809575625680087\n",
      "max_depth: 14 F1: 0.4782122905027933\n",
      "max_depth: 15 F1: 0.4784688995215311\n",
      "max_depth: 16 F1: 0.4723247232472324\n",
      "max_depth: 17 F1: 0.4801980198019802\n",
      "max_depth: 18 F1: 0.48129675810473815\n",
      "max_depth: 19 F1: 0.47148288973384034\n",
      "max_depth: 20 F1: 0.47887323943661975\n",
      "max_depth: 21 F1: 0.47887323943661975\n",
      "max_depth: 22 F1: 0.4776500638569604\n",
      "max_depth: 23 F1: 0.48124191461837007\n",
      "max_depth: 24 F1: 0.48124191461837007\n",
      "max_depth: 25 F1: 0.48124191461837007\n",
      "max_depth: 26 F1: 0.48124191461837007\n",
      "max_depth: 27 F1: 0.48124191461837007\n",
      "max_depth: 28 F1: 0.48124191461837007\n",
      "max_depth: 29 F1: 0.48124191461837007\n",
      "max_depth: 30 F1: 0.48124191461837007\n",
      "max_depth: 31 F1: 0.48124191461837007\n",
      "max_depth: 32 F1: 0.48124191461837007\n",
      "max_depth: 33 F1: 0.48124191461837007\n",
      "max_depth: 34 F1: 0.48124191461837007\n",
      "max_depth: 35 F1: 0.48124191461837007\n",
      "max_depth: 36 F1: 0.48124191461837007\n",
      "max_depth: 37 F1: 0.48124191461837007\n",
      "max_depth: 38 F1: 0.48124191461837007\n",
      "max_depth: 39 F1: 0.48124191461837007\n",
      "max_depth: 40 F1: 0.48124191461837007\n",
      "max_depth: 41 F1: 0.48124191461837007\n",
      "max_depth: 42 F1: 0.48124191461837007\n",
      "max_depth: 43 F1: 0.48124191461837007\n",
      "max_depth: 44 F1: 0.48124191461837007\n",
      "max_depth: 45 F1: 0.48124191461837007\n",
      "max_depth: 46 F1: 0.48124191461837007\n",
      "max_depth: 47 F1: 0.48124191461837007\n",
      "max_depth: 48 F1: 0.48124191461837007\n",
      "max_depth: 49 F1: 0.48124191461837007\n",
      "max_depth: 50 F1: 0.48124191461837007\n",
      "max_depth: 51 F1: 0.48124191461837007\n",
      "max_depth: 52 F1: 0.48124191461837007\n",
      "max_depth: 53 F1: 0.48124191461837007\n",
      "max_depth: 54 F1: 0.48124191461837007\n",
      "max_depth: 55 F1: 0.48124191461837007\n",
      "max_depth: 56 F1: 0.48124191461837007\n",
      "max_depth: 57 F1: 0.48124191461837007\n",
      "max_depth: 58 F1: 0.48124191461837007\n",
      "max_depth: 59 F1: 0.48124191461837007\n",
      "max_depth: 60 F1: 0.48124191461837007\n",
      "max_depth: 61 F1: 0.48124191461837007\n",
      "max_depth: 62 F1: 0.48124191461837007\n",
      "max_depth: 63 F1: 0.48124191461837007\n",
      "max_depth: 64 F1: 0.48124191461837007\n",
      "max_depth: 65 F1: 0.48124191461837007\n",
      "max_depth: 66 F1: 0.48124191461837007\n",
      "max_depth: 67 F1: 0.48124191461837007\n",
      "max_depth: 68 F1: 0.48124191461837007\n",
      "max_depth: 69 F1: 0.48124191461837007\n",
      "max_depth: 70 F1: 0.48124191461837007\n",
      "max_depth: 71 F1: 0.48124191461837007\n",
      "max_depth: 72 F1: 0.48124191461837007\n",
      "max_depth: 73 F1: 0.48124191461837007\n",
      "max_depth: 74 F1: 0.48124191461837007\n",
      "CPU times: user 2.41 s, sys: 15.9 ms, total: 2.42 s\n",
      "Wall time: 2.44 s\n"
     ]
    }
   ],
   "source": [
    "%%time\n",
    "\n",
    "for depth in range(1,75,1):\n",
    "    model_tree=DecisionTreeClassifier(max_depth=depth,random_state=1234)\n",
    "    model_tree.fit(features_upsampled,target_upsampled)\n",
    "    tree_predicted_valid = model_tree.predict(features_valid)\n",
    "    print('max_depth:',depth,'F1:',f1_score(target_valid,tree_predicted_valid))"
   ]
  },
  {
   "cell_type": "markdown",
   "metadata": {},
   "source": [
    "Лучшее значение модели дерева решений достигается на max_depth=6, при котором F1=0,5586"
   ]
  },
  {
   "cell_type": "markdown",
   "metadata": {},
   "source": [
    "Результаты стали лучше, но требуемого порога в 0.59 мы не достигли."
   ]
  },
  {
   "cell_type": "markdown",
   "metadata": {},
   "source": [
    "Обучение с помощью модели Случайный лес"
   ]
  },
  {
   "cell_type": "code",
   "execution_count": 35,
   "metadata": {},
   "outputs": [
    {
     "name": "stdout",
     "output_type": "stream",
     "text": [
      "max_depth: 11 n_estimators: 52 F1: 0.6011695906432749\n",
      "CPU times: user 10min 38s, sys: 1.99 s, total: 10min 40s\n",
      "Wall time: 10min 41s\n"
     ]
    }
   ],
   "source": [
    "%%time\n",
    "    \n",
    "best_depth = 0\n",
    "best_estimators = 0\n",
    "best_result = 0    \n",
    "for depth in range(1, 20, 1):\n",
    "    for estimators in range(50, 150, 2):\n",
    "        model_forest=RandomForestClassifier(max_depth=depth, \n",
    "                                     n_estimators=estimators,\n",
    "                                     random_state=1234)\n",
    "        model_forest.fit(features_upsampled,target_upsampled)\n",
    "        forest_predicted_valid=model_forest.predict(features_valid)\n",
    "        result = f1_score(target_valid, forest_predicted_valid)\n",
    "\n",
    "        if best_result < result:\n",
    "            best_result = result\n",
    "            best_estimators = estimators\n",
    "            best_depth = depth\n",
    "            \n",
    "            \n",
    "print('max_depth:', best_depth, \n",
    "      'n_estimators:', best_estimators,\n",
    "      'F1:', best_result) "
   ]
  },
  {
   "cell_type": "markdown",
   "metadata": {},
   "source": [
    "Лучшее значение max_depth=11,n_estimators = 52, при котором F1=0.6012. Достигли метрики 0.59"
   ]
  },
  {
   "cell_type": "code",
   "execution_count": 36,
   "metadata": {},
   "outputs": [],
   "source": [
    "# лучшую модель сохраним в переменной\n",
    "model_forest_best1 = RandomForestClassifier(max_depth=11, random_state=12345, n_estimators=52) \n",
    "model_forest_best1.fit(features_train, target_train)\n",
    "forest_predicted_valid = model_forest_best1.predict(features_valid)"
   ]
  },
  {
   "cell_type": "markdown",
   "metadata": {},
   "source": [
    "Обучение с помощью модели Логистической регрессии"
   ]
  },
  {
   "cell_type": "code",
   "execution_count": 37,
   "metadata": {},
   "outputs": [
    {
     "name": "stdout",
     "output_type": "stream",
     "text": [
      "F1: 0.47543859649122816\n",
      "CPU times: user 21.4 ms, sys: 51.8 ms, total: 73.2 ms\n",
      "Wall time: 32.7 ms\n"
     ]
    }
   ],
   "source": [
    "%%time\n",
    "\n",
    "model_regression=LogisticRegression(solver='liblinear')\n",
    "model_regression.fit(features_upsampled,target_upsampled)\n",
    "regression_predicted_valid = model_regression.predict(features_valid)\n",
    "print('F1:',f1_score(target_valid,regression_predicted_valid))\n"
   ]
  },
  {
   "cell_type": "markdown",
   "metadata": {},
   "source": [
    "Мера F1 поменялась. Стала гораздо лучше. F1=0.4753"
   ]
  },
  {
   "cell_type": "markdown",
   "metadata": {},
   "source": [
    "### Downsample"
   ]
  },
  {
   "cell_type": "markdown",
   "metadata": {},
   "source": [
    "Ещё один способ борьбы с дисбалансом - это уменьшение выборки, или downsampling. Попробуем и этот способ:"
   ]
  },
  {
   "cell_type": "code",
   "execution_count": 38,
   "metadata": {},
   "outputs": [],
   "source": [
    "def downsample(features, target, fraction):\n",
    "    features_zeros = features[target == 0]\n",
    "    features_ones = features[target == 1]\n",
    "    target_zeros = target[target == 0]\n",
    "    target_ones = target[target == 1]\n",
    "\n",
    "    features_downsampled = pd.concat([features_zeros.sample(frac=0.25, random_state=12345)] +\n",
    "                                     [features_ones])\n",
    "    target_downsampled = pd.concat([target_zeros.sample(frac=0.25, random_state=12345)] +\n",
    "                                     [target_ones])\n",
    "    features_downsampled, target_downsampled = shuffle(features_downsampled, target_downsampled,\n",
    "                                                      random_state=12345)\n",
    "    return features_downsampled, target_downsampled\n",
    "\n",
    "features_downsampled, target_downsampled = downsample(features_train, target_train, 0.25)"
   ]
  },
  {
   "cell_type": "markdown",
   "metadata": {},
   "source": [
    "После балансирования данных. Обучение с помощью модели Дерево решения"
   ]
  },
  {
   "cell_type": "code",
   "execution_count": 39,
   "metadata": {
    "scrolled": false
   },
   "outputs": [
    {
     "name": "stdout",
     "output_type": "stream",
     "text": [
      "max_depth: 1 F1: 0.4750733137829912\n",
      "max_depth: 2 F1: 0.49761677788369874\n",
      "max_depth: 3 F1: 0.5118376550169109\n",
      "max_depth: 4 F1: 0.49569377990430613\n",
      "max_depth: 5 F1: 0.5278491859468724\n",
      "max_depth: 6 F1: 0.5434380776340111\n",
      "max_depth: 7 F1: 0.5441039925719591\n",
      "max_depth: 8 F1: 0.5114503816793894\n",
      "max_depth: 9 F1: 0.510677808727948\n",
      "max_depth: 10 F1: 0.5027932960893855\n",
      "max_depth: 11 F1: 0.4821092278719398\n",
      "max_depth: 12 F1: 0.4869251577998196\n",
      "max_depth: 13 F1: 0.4745454545454546\n",
      "max_depth: 14 F1: 0.4675324675324675\n",
      "max_depth: 15 F1: 0.46771378708551486\n",
      "max_depth: 16 F1: 0.4637931034482759\n",
      "max_depth: 17 F1: 0.4691358024691359\n",
      "max_depth: 18 F1: 0.46986899563318774\n",
      "max_depth: 19 F1: 0.46113989637305697\n",
      "max_depth: 20 F1: 0.4670763827919227\n",
      "max_depth: 21 F1: 0.4670763827919227\n",
      "max_depth: 22 F1: 0.4670763827919227\n",
      "max_depth: 23 F1: 0.4670763827919227\n",
      "max_depth: 24 F1: 0.4670763827919227\n",
      "max_depth: 25 F1: 0.4670763827919227\n",
      "max_depth: 26 F1: 0.4670763827919227\n",
      "max_depth: 27 F1: 0.4670763827919227\n",
      "max_depth: 28 F1: 0.4670763827919227\n",
      "max_depth: 29 F1: 0.4670763827919227\n",
      "max_depth: 30 F1: 0.4670763827919227\n",
      "max_depth: 31 F1: 0.4670763827919227\n",
      "max_depth: 32 F1: 0.4670763827919227\n",
      "max_depth: 33 F1: 0.4670763827919227\n",
      "max_depth: 34 F1: 0.4670763827919227\n",
      "max_depth: 35 F1: 0.4670763827919227\n",
      "max_depth: 36 F1: 0.4670763827919227\n",
      "max_depth: 37 F1: 0.4670763827919227\n",
      "max_depth: 38 F1: 0.4670763827919227\n",
      "max_depth: 39 F1: 0.4670763827919227\n",
      "max_depth: 40 F1: 0.4670763827919227\n",
      "max_depth: 41 F1: 0.4670763827919227\n",
      "max_depth: 42 F1: 0.4670763827919227\n",
      "max_depth: 43 F1: 0.4670763827919227\n",
      "max_depth: 44 F1: 0.4670763827919227\n",
      "max_depth: 45 F1: 0.4670763827919227\n",
      "max_depth: 46 F1: 0.4670763827919227\n",
      "max_depth: 47 F1: 0.4670763827919227\n",
      "max_depth: 48 F1: 0.4670763827919227\n",
      "max_depth: 49 F1: 0.4670763827919227\n",
      "max_depth: 50 F1: 0.4670763827919227\n",
      "max_depth: 51 F1: 0.4670763827919227\n",
      "max_depth: 52 F1: 0.4670763827919227\n",
      "max_depth: 53 F1: 0.4670763827919227\n",
      "max_depth: 54 F1: 0.4670763827919227\n",
      "max_depth: 55 F1: 0.4670763827919227\n",
      "max_depth: 56 F1: 0.4670763827919227\n",
      "max_depth: 57 F1: 0.4670763827919227\n",
      "max_depth: 58 F1: 0.4670763827919227\n",
      "max_depth: 59 F1: 0.4670763827919227\n",
      "max_depth: 60 F1: 0.4670763827919227\n",
      "max_depth: 61 F1: 0.4670763827919227\n",
      "max_depth: 62 F1: 0.4670763827919227\n",
      "max_depth: 63 F1: 0.4670763827919227\n",
      "max_depth: 64 F1: 0.4670763827919227\n",
      "max_depth: 65 F1: 0.4670763827919227\n",
      "max_depth: 66 F1: 0.4670763827919227\n",
      "max_depth: 67 F1: 0.4670763827919227\n",
      "max_depth: 68 F1: 0.4670763827919227\n",
      "max_depth: 69 F1: 0.4670763827919227\n",
      "max_depth: 70 F1: 0.4670763827919227\n",
      "max_depth: 71 F1: 0.4670763827919227\n",
      "max_depth: 72 F1: 0.4670763827919227\n",
      "max_depth: 73 F1: 0.4670763827919227\n",
      "max_depth: 74 F1: 0.4670763827919227\n",
      "CPU times: user 912 ms, sys: 27.9 ms, total: 940 ms\n",
      "Wall time: 942 ms\n"
     ]
    }
   ],
   "source": [
    "%%time\n",
    "\n",
    "for depth in range(1,75,1):\n",
    "    model_tree=DecisionTreeClassifier(max_depth=depth,random_state=1234)\n",
    "    model_tree.fit(features_downsampled, target_downsampled)\n",
    "    tree_predicted_valid = model_tree.predict(features_valid)\n",
    "    print('max_depth:',depth,'F1:',f1_score(target_valid,tree_predicted_valid))"
   ]
  },
  {
   "cell_type": "markdown",
   "metadata": {},
   "source": [
    "Лучшее значение при max_depth = 7 F1= 0.5440"
   ]
  },
  {
   "cell_type": "markdown",
   "metadata": {},
   "source": [
    "Результаты немного хуже, чем при увеличении выборки.Требуемого порога в 0.59 мы не достигли"
   ]
  },
  {
   "cell_type": "markdown",
   "metadata": {},
   "source": [
    "Обучение с помощью модели Случайный лес"
   ]
  },
  {
   "cell_type": "code",
   "execution_count": 40,
   "metadata": {
    "scrolled": false
   },
   "outputs": [
    {
     "name": "stdout",
     "output_type": "stream",
     "text": [
      "max_depth: 8 n_estimators: 100 F1: 0.5799404170804369\n",
      "CPU times: user 4min 39s, sys: 1.18 s, total: 4min 40s\n",
      "Wall time: 4min 41s\n"
     ]
    }
   ],
   "source": [
    "%%time\n",
    "    \n",
    "best_depth = 0\n",
    "best_estimators = 0\n",
    "best_result = 0    \n",
    "for depth in range(1, 20, 1):\n",
    "    for estimators in range(50, 150, 2):\n",
    "        model_forest=RandomForestClassifier(max_depth=depth, \n",
    "                                     n_estimators=estimators,\n",
    "                                     random_state=1234)\n",
    "        model_forest.fit(features_downsampled, target_downsampled)\n",
    "        forest_predicted_valid=model_forest.predict(features_valid)\n",
    "        result = f1_score(target_valid, forest_predicted_valid)\n",
    "\n",
    "        if best_result < result:\n",
    "            best_result = result\n",
    "            best_estimators = estimators\n",
    "            best_depth = depth\n",
    "            \n",
    "            \n",
    "print('max_depth:', best_depth, \n",
    "      'n_estimators:', best_estimators,\n",
    "      'F1:', best_result) "
   ]
  },
  {
   "cell_type": "markdown",
   "metadata": {},
   "source": [
    "Лучшее значение max_depth=8,n_estimators= 100, при котором F1=0.5799. Не достигли метрики 0.59"
   ]
  },
  {
   "cell_type": "markdown",
   "metadata": {},
   "source": [
    "Обучение с помощью модели Логистической регрессии"
   ]
  },
  {
   "cell_type": "code",
   "execution_count": 41,
   "metadata": {},
   "outputs": [
    {
     "name": "stdout",
     "output_type": "stream",
     "text": [
      "F1: 0.4723441615452151\n",
      "CPU times: user 13.6 ms, sys: 15.9 ms, total: 29.6 ms\n",
      "Wall time: 11.2 ms\n"
     ]
    }
   ],
   "source": [
    "%%time\n",
    "\n",
    "model_regression=LogisticRegression(solver='liblinear')\n",
    "model_regression.fit(features_downsampled, target_downsampled)\n",
    "regression_predicted_valid = model_regression.predict(features_valid)\n",
    "print('F1:',f1_score(target_valid,regression_predicted_valid))\n"
   ]
  },
  {
   "cell_type": "markdown",
   "metadata": {},
   "source": [
    "При борьбе с дисбалансом с помощью уменьшения выборки мы не достигли меры f1 0.59. Лидирующие позиции имеет модель случайного леса при борьбе с дисбалансом при взвешивании классов."
   ]
  },
  {
   "cell_type": "markdown",
   "metadata": {},
   "source": [
    "Обратимся ещё к одной метрике качества модели, построим ROC-кривую, или кривую ошибок для лучших моделей. Для модели, которая всегда отвечает случайно, ROC-кривая выглядит как прямая, идущая из левого нижнего угла в верхний правый. Чем график выше, тем больше значение истинно положительных ответов (TPR) и лучше качество модели."
   ]
  },
  {
   "cell_type": "code",
   "execution_count": 42,
   "metadata": {},
   "outputs": [],
   "source": [
    "def auc_roc(model, name):\n",
    "    probabilities_valid = model.predict_proba(features_valid)\n",
    "    probabilities_one_valid = probabilities_valid[:, 1]\n",
    "    fpr, tpr, thresholds = roc_curve(target_valid, probabilities_one_valid)\n",
    "    \n",
    "    plt.figure()\n",
    "    plt.plot(fpr, tpr)\n",
    "    plt.plot([0, 1], [0, 1], linestyle='--')\n",
    "    plt.ylim([0.0, 1.0])\n",
    "    plt.xlim([0.0, 1.0])\n",
    "    plt.xlabel('False Positive Rate')\n",
    "    plt.ylabel('True Positive Rate')\n",
    "    plt.title('{} ROC-кривая'.format(name))\n",
    "    plt.show()\n",
    "    \n",
    "    auc_roc = roc_auc_score(target_valid, probabilities_one_valid)\n",
    "    print('AUC-ROC равно:', auc_roc)\n",
    "    return "
   ]
  },
  {
   "cell_type": "code",
   "execution_count": 43,
   "metadata": {
    "scrolled": true
   },
   "outputs": [
    {
     "data": {
      "image/png": "[encoded data removed]",
      "text/plain": [
       "<Figure size 432x288 with 1 Axes>"
      ]
     },
     "metadata": {
      "needs_background": "light"
     },
     "output_type": "display_data"
    },
    {
     "name": "stdout",
     "output_type": "stream",
     "text": [
      "AUC-ROC равно: 0.8507690913801681\n"
     ]
    }
   ],
   "source": [
    "auc_roc(model_forest_best, 'Случайный лес взвешивание классов')"
   ]
  },
  {
   "cell_type": "code",
   "execution_count": 44,
   "metadata": {
    "scrolled": true
   },
   "outputs": [
    {
     "data": {
      "image/png": "[encoded data removed]",
      "text/plain": [
       "<Figure size 432x288 with 1 Axes>"
      ]
     },
     "metadata": {
      "needs_background": "light"
     },
     "output_type": "display_data"
    },
    {
     "name": "stdout",
     "output_type": "stream",
     "text": [
      "AUC-ROC равно: 0.847348434874801\n"
     ]
    }
   ],
   "source": [
    "auc_roc(model_forest_best1, 'Случайный лес увеличение выборки')"
   ]
  },
  {
   "cell_type": "markdown",
   "metadata": {},
   "source": [
    "Получилось, что у Случайного леса немного лучшее значение при взвешивании классов. Метрика AUC-ROC ещё далека от единицы, но и от случайной модели она уже далека."
   ]
  },
  {
   "cell_type": "markdown",
   "metadata": {},
   "source": [
    "В итоге способ борьбы с дисбалансом взвешивание классов оказался эффективнее способов downsampling, upsampling. Лучшие результаты F1-меры показывает модель Случайный лес."
   ]
  },
  {
   "cell_type": "markdown",
   "metadata": {},
   "source": [
    "## Тестирование модели"
   ]
  },
  {
   "cell_type": "code",
   "execution_count": 45,
   "metadata": {},
   "outputs": [],
   "source": [
    "#объединим выборки\n",
    "features_full_train = pd.concat([features_train, features_valid])\n",
    "target_full_train = pd.concat([target_train, target_valid])"
   ]
  },
  {
   "cell_type": "markdown",
   "metadata": {},
   "source": [
    "Лучший результат показала модель Random Forest Classifier при взвешивании классов"
   ]
  },
  {
   "cell_type": "code",
   "execution_count": 48,
   "metadata": {},
   "outputs": [
    {
     "name": "stdout",
     "output_type": "stream",
     "text": [
      "test: 0.6280193236714976\n"
     ]
    }
   ],
   "source": [
    "model_forest_test = RandomForestClassifier(max_depth=11,\n",
    "                                           n_estimators=100,\n",
    "                                           random_state=1234,\n",
    "                                           class_weight='balanced')\n",
    "\n",
    "model_forest_test.fit(features_full_train, target_full_train)\n",
    "test_predictions = model_forest_test.predict(features_test)\n",
    "print('test:', f1_score(target_test, test_predictions))"
   ]
  },
  {
   "cell_type": "markdown",
   "metadata": {},
   "source": [
    "Посчитаем AUC-ROC для нашей модели и посмотрим насколько она лучше случайной модели"
   ]
  },
  {
   "cell_type": "code",
   "execution_count": 50,
   "metadata": {},
   "outputs": [
    {
     "data": {
      "text/plain": [
       "0.8622227251139323"
      ]
     },
     "execution_count": 50,
     "metadata": {},
     "output_type": "execute_result"
    }
   ],
   "source": [
    "probabilities_test = model_forest_test.predict_proba(features_test)\n",
    "probabilities_one_test  = probabilities_test [:, 1]\n",
    "\n",
    "roc_auc_score(target_test, probabilities_one_test)"
   ]
  },
  {
   "cell_type": "markdown",
   "metadata": {},
   "source": [
    "На объединенной выборке удалось достичь значения 0.8621 F1-меры нашей лучшей модели Случайного леса."
   ]
  },
  {
   "cell_type": "markdown",
   "metadata": {},
   "source": [
    "* Модель Случайный лес показала самые лучшие результаты в сравнении с Деревом решений и Логической регрессией.\n",
    "* Устранив дисбаланс в данных и подобрав гиперпараметры модели удалось достичь F1-меру> 0.59.\n",
    "* Обученную модель можно использовать для прогнозирования, уйдёт клиент из банка в ближайшее время или нет."
   ]
  },
  {
   "cell_type": "code",
   "execution_count": null,
   "metadata": {},
   "outputs": [],
   "source": []
  }
 ],
 "metadata": {
  "ExecuteTimeLog": [
   {
    "duration": 1789,
    "start_time": "2022-06-08T18:39:28.172Z"
   },
   {
    "duration": 10,
    "start_time": "2022-06-08T18:44:52.526Z"
   },
   {
    "duration": 3,
    "start_time": "2022-06-08T18:45:35.955Z"
   },
   {
    "duration": 12,
    "start_time": "2022-06-08T18:46:28.116Z"
   },
   {
    "duration": 4,
    "start_time": "2022-06-08T18:46:42.318Z"
   },
   {
    "duration": 24,
    "start_time": "2022-06-08T18:46:57.901Z"
   },
   {
    "duration": 13,
    "start_time": "2022-06-08T18:47:15.606Z"
   },
   {
    "duration": 6,
    "start_time": "2022-06-08T18:47:55.964Z"
   },
   {
    "duration": 21,
    "start_time": "2022-06-08T18:48:39.111Z"
   },
   {
    "duration": 14,
    "start_time": "2022-06-08T18:49:14.021Z"
   },
   {
    "duration": 17,
    "start_time": "2022-06-08T18:49:31.541Z"
   },
   {
    "duration": 11,
    "start_time": "2022-06-08T18:49:44.809Z"
   },
   {
    "duration": 6,
    "start_time": "2022-06-08T18:50:03.751Z"
   },
   {
    "duration": 27,
    "start_time": "2022-06-08T18:50:39.515Z"
   },
   {
    "duration": 153,
    "start_time": "2022-06-08T18:51:29.366Z"
   },
   {
    "duration": 19,
    "start_time": "2022-06-08T18:52:09.663Z"
   },
   {
    "duration": 3211,
    "start_time": "2022-06-08T18:52:22.760Z"
   },
   {
    "duration": 218,
    "start_time": "2022-06-08T18:54:36.506Z"
   },
   {
    "duration": 73,
    "start_time": "2022-06-08T18:54:50.426Z"
   },
   {
    "duration": 159,
    "start_time": "2022-06-08T18:56:41.555Z"
   },
   {
    "duration": 9,
    "start_time": "2022-06-08T18:57:38.085Z"
   },
   {
    "duration": 11,
    "start_time": "2022-06-08T18:58:06.602Z"
   },
   {
    "duration": 6,
    "start_time": "2022-06-08T18:58:19.541Z"
   },
   {
    "duration": 8,
    "start_time": "2022-06-08T18:58:31.755Z"
   },
   {
    "duration": 10,
    "start_time": "2022-06-08T19:00:03.372Z"
   },
   {
    "duration": 8,
    "start_time": "2022-06-08T19:00:49.508Z"
   },
   {
    "duration": 19,
    "start_time": "2022-06-08T19:01:28.102Z"
   },
   {
    "duration": 1378,
    "start_time": "2022-06-08T19:04:09.424Z"
   },
   {
    "duration": 12,
    "start_time": "2022-06-08T19:04:42.128Z"
   },
   {
    "duration": 13,
    "start_time": "2022-06-08T19:05:41.352Z"
   },
   {
    "duration": 14,
    "start_time": "2022-06-08T19:06:21.257Z"
   },
   {
    "duration": 866,
    "start_time": "2022-06-08T19:06:51.721Z"
   },
   {
    "duration": 7,
    "start_time": "2022-06-08T19:07:34.556Z"
   },
   {
    "duration": 10,
    "start_time": "2022-06-08T19:09:39.255Z"
   },
   {
    "duration": 314,
    "start_time": "2022-06-08T19:09:51.157Z"
   },
   {
    "duration": 9,
    "start_time": "2022-06-08T19:10:07.259Z"
   },
   {
    "duration": 9,
    "start_time": "2022-06-08T19:10:58.276Z"
   },
   {
    "duration": 325,
    "start_time": "2022-06-08T19:10:58.975Z"
   },
   {
    "duration": 8,
    "start_time": "2022-06-08T19:10:59.619Z"
   },
   {
    "duration": 10,
    "start_time": "2022-06-08T19:11:09.915Z"
   },
   {
    "duration": 331,
    "start_time": "2022-06-08T19:11:10.656Z"
   },
   {
    "duration": 9,
    "start_time": "2022-06-08T19:11:11.267Z"
   },
   {
    "duration": 9,
    "start_time": "2022-06-08T19:11:24.676Z"
   },
   {
    "duration": 311,
    "start_time": "2022-06-08T19:11:26.884Z"
   },
   {
    "duration": 9,
    "start_time": "2022-06-08T19:11:27.423Z"
   },
   {
    "duration": 1268,
    "start_time": "2022-06-08T19:12:48.568Z"
   },
   {
    "duration": 7,
    "start_time": "2022-06-08T19:12:50.846Z"
   },
   {
    "duration": 3,
    "start_time": "2022-06-08T19:12:52.364Z"
   },
   {
    "duration": 7,
    "start_time": "2022-06-08T19:12:54.084Z"
   },
   {
    "duration": 3,
    "start_time": "2022-06-08T19:12:54.893Z"
   },
   {
    "duration": 14,
    "start_time": "2022-06-08T19:12:57.620Z"
   },
   {
    "duration": 5,
    "start_time": "2022-06-08T19:12:59.292Z"
   },
   {
    "duration": 16,
    "start_time": "2022-06-08T19:13:01.959Z"
   },
   {
    "duration": 11,
    "start_time": "2022-06-08T19:13:05.553Z"
   },
   {
    "duration": 12,
    "start_time": "2022-06-08T19:14:22.355Z"
   },
   {
    "duration": 11,
    "start_time": "2022-06-08T19:14:23.373Z"
   },
   {
    "duration": 6,
    "start_time": "2022-06-08T19:14:27.390Z"
   },
   {
    "duration": 36,
    "start_time": "2022-06-08T19:14:28.593Z"
   },
   {
    "duration": 162,
    "start_time": "2022-06-08T19:14:34.421Z"
   },
   {
    "duration": 20,
    "start_time": "2022-06-08T19:15:21.739Z"
   },
   {
    "duration": 2999,
    "start_time": "2022-06-08T19:15:29.263Z"
   },
   {
    "duration": 133,
    "start_time": "2022-06-08T19:17:43.560Z"
   },
   {
    "duration": 259,
    "start_time": "2022-06-08T19:17:47.928Z"
   },
   {
    "duration": 159,
    "start_time": "2022-06-08T19:18:07.355Z"
   },
   {
    "duration": 7,
    "start_time": "2022-06-08T19:18:16.920Z"
   },
   {
    "duration": 6,
    "start_time": "2022-06-08T19:18:21.035Z"
   },
   {
    "duration": 6,
    "start_time": "2022-06-08T19:18:22.058Z"
   },
   {
    "duration": 6,
    "start_time": "2022-06-08T19:18:22.967Z"
   },
   {
    "duration": 8,
    "start_time": "2022-06-08T19:18:42.224Z"
   },
   {
    "duration": 8,
    "start_time": "2022-06-08T19:18:52.377Z"
   },
   {
    "duration": 10,
    "start_time": "2022-06-08T19:18:57.377Z"
   },
   {
    "duration": 363,
    "start_time": "2022-06-08T19:19:32.617Z"
   },
   {
    "duration": 9,
    "start_time": "2022-06-08T19:19:37.522Z"
   },
   {
    "duration": 8,
    "start_time": "2022-06-08T19:19:58.698Z"
   },
   {
    "duration": 11,
    "start_time": "2022-06-08T19:20:10.697Z"
   },
   {
    "duration": 432,
    "start_time": "2022-06-08T19:21:22.010Z"
   },
   {
    "duration": 8,
    "start_time": "2022-06-08T19:21:22.443Z"
   },
   {
    "duration": 10,
    "start_time": "2022-06-08T19:21:59.019Z"
   },
   {
    "duration": 289,
    "start_time": "2022-06-08T19:22:08.067Z"
   },
   {
    "duration": 8,
    "start_time": "2022-06-08T19:22:10.010Z"
   },
   {
    "duration": 9,
    "start_time": "2022-06-08T19:22:24.587Z"
   },
   {
    "duration": 274,
    "start_time": "2022-06-08T19:22:25.483Z"
   },
   {
    "duration": 10,
    "start_time": "2022-06-08T19:22:26.114Z"
   },
   {
    "duration": 9,
    "start_time": "2022-06-08T19:22:33.451Z"
   },
   {
    "duration": 289,
    "start_time": "2022-06-08T19:22:35.259Z"
   },
   {
    "duration": 9,
    "start_time": "2022-06-08T19:22:35.818Z"
   },
   {
    "duration": 9,
    "start_time": "2022-06-08T19:22:43.419Z"
   },
   {
    "duration": 263,
    "start_time": "2022-06-08T19:22:43.988Z"
   },
   {
    "duration": 8,
    "start_time": "2022-06-08T19:22:44.552Z"
   },
   {
    "duration": 1122,
    "start_time": "2022-06-08T19:29:52.118Z"
   },
   {
    "duration": 8,
    "start_time": "2022-06-08T19:30:02.156Z"
   },
   {
    "duration": 3,
    "start_time": "2022-06-08T19:30:22.596Z"
   },
   {
    "duration": 9,
    "start_time": "2022-06-08T19:30:26.959Z"
   },
   {
    "duration": 4,
    "start_time": "2022-06-08T19:30:30.421Z"
   },
   {
    "duration": 11,
    "start_time": "2022-06-08T19:30:30.972Z"
   },
   {
    "duration": 1906,
    "start_time": "2022-06-08T19:52:54.549Z"
   },
   {
    "duration": 11,
    "start_time": "2022-06-08T19:52:57.309Z"
   },
   {
    "duration": 5,
    "start_time": "2022-06-08T19:53:00.741Z"
   },
   {
    "duration": 11,
    "start_time": "2022-06-08T19:53:02.157Z"
   },
   {
    "duration": 5,
    "start_time": "2022-06-08T19:53:03.127Z"
   },
   {
    "duration": 14,
    "start_time": "2022-06-08T19:53:03.750Z"
   },
   {
    "duration": 7,
    "start_time": "2022-06-08T19:53:08.687Z"
   },
   {
    "duration": 23,
    "start_time": "2022-06-08T19:53:09.925Z"
   },
   {
    "duration": 15,
    "start_time": "2022-06-08T19:53:22.733Z"
   },
   {
    "duration": 13,
    "start_time": "2022-06-08T19:53:26.735Z"
   },
   {
    "duration": 14,
    "start_time": "2022-06-08T19:53:27.496Z"
   },
   {
    "duration": 8,
    "start_time": "2022-06-08T19:53:30.390Z"
   },
   {
    "duration": 36,
    "start_time": "2022-06-08T19:53:31.518Z"
   },
   {
    "duration": 186,
    "start_time": "2022-06-08T19:53:35.702Z"
   },
   {
    "duration": 23,
    "start_time": "2022-06-08T19:53:44.014Z"
   },
   {
    "duration": 23,
    "start_time": "2022-06-08T19:53:59.486Z"
   },
   {
    "duration": 4308,
    "start_time": "2022-06-08T19:54:10.194Z"
   },
   {
    "duration": 248,
    "start_time": "2022-06-08T19:54:57.793Z"
   },
   {
    "duration": 473,
    "start_time": "2022-06-08T19:55:04.410Z"
   },
   {
    "duration": 277,
    "start_time": "2022-06-08T19:55:16.462Z"
   },
   {
    "duration": 9,
    "start_time": "2022-06-08T19:55:42.105Z"
   },
   {
    "duration": 9,
    "start_time": "2022-06-08T19:55:48.926Z"
   },
   {
    "duration": 9,
    "start_time": "2022-06-08T19:55:49.830Z"
   },
   {
    "duration": 8,
    "start_time": "2022-06-08T19:55:50.742Z"
   },
   {
    "duration": 9,
    "start_time": "2022-06-08T19:56:03.126Z"
   },
   {
    "duration": 12,
    "start_time": "2022-06-08T19:56:07.158Z"
   },
   {
    "duration": 10,
    "start_time": "2022-06-08T19:56:10.206Z"
   },
   {
    "duration": 659,
    "start_time": "2022-06-08T19:56:51.759Z"
   },
   {
    "duration": 15,
    "start_time": "2022-06-08T19:56:56.256Z"
   },
   {
    "duration": 8,
    "start_time": "2022-06-08T19:57:03.751Z"
   },
   {
    "duration": 11,
    "start_time": "2022-06-08T19:57:15.831Z"
   },
   {
    "duration": 1071,
    "start_time": "2022-06-08T19:57:30.111Z"
   },
   {
    "duration": 13,
    "start_time": "2022-06-08T19:57:33.692Z"
   },
   {
    "duration": 10,
    "start_time": "2022-06-08T19:57:57.239Z"
   },
   {
    "duration": 386,
    "start_time": "2022-06-08T19:58:05.099Z"
   },
   {
    "duration": 16,
    "start_time": "2022-06-08T19:58:06.631Z"
   },
   {
    "duration": 14,
    "start_time": "2022-06-08T19:58:15.309Z"
   },
   {
    "duration": 297,
    "start_time": "2022-06-08T19:58:15.815Z"
   },
   {
    "duration": 14,
    "start_time": "2022-06-08T19:58:16.787Z"
   },
   {
    "duration": 6,
    "start_time": "2022-06-08T19:59:21.928Z"
   },
   {
    "duration": 293,
    "start_time": "2022-06-08T19:59:34.431Z"
   },
   {
    "duration": 160,
    "start_time": "2022-06-08T19:59:49.482Z"
   },
   {
    "duration": 153,
    "start_time": "2022-06-08T20:00:05.773Z"
   },
   {
    "duration": 27,
    "start_time": "2022-06-08T20:03:09.745Z"
   },
   {
    "duration": 208,
    "start_time": "2022-06-08T20:03:58.802Z"
   },
   {
    "duration": 23,
    "start_time": "2022-06-08T20:04:54.202Z"
   },
   {
    "duration": 1530,
    "start_time": "2022-06-09T02:48:44.893Z"
   },
   {
    "duration": 10,
    "start_time": "2022-06-09T02:48:46.426Z"
   },
   {
    "duration": 20,
    "start_time": "2022-06-09T02:48:46.438Z"
   },
   {
    "duration": 35,
    "start_time": "2022-06-09T02:48:46.461Z"
   },
   {
    "duration": 9,
    "start_time": "2022-06-09T02:48:46.499Z"
   },
   {
    "duration": 41,
    "start_time": "2022-06-09T02:48:46.510Z"
   },
   {
    "duration": 38,
    "start_time": "2022-06-09T02:48:46.552Z"
   },
   {
    "duration": 41,
    "start_time": "2022-06-09T02:48:46.591Z"
   },
   {
    "duration": 21,
    "start_time": "2022-06-09T02:48:46.634Z"
   },
   {
    "duration": 40,
    "start_time": "2022-06-09T02:48:46.659Z"
   },
   {
    "duration": 23,
    "start_time": "2022-06-09T02:48:46.701Z"
   },
   {
    "duration": 13,
    "start_time": "2022-06-09T02:48:46.725Z"
   },
   {
    "duration": 44,
    "start_time": "2022-06-09T02:48:46.740Z"
   },
   {
    "duration": 151,
    "start_time": "2022-06-09T02:48:46.786Z"
   },
   {
    "duration": 20,
    "start_time": "2022-06-09T02:48:46.939Z"
   },
   {
    "duration": 4084,
    "start_time": "2022-06-09T02:48:46.961Z"
   },
   {
    "duration": 172,
    "start_time": "2022-06-09T02:48:51.046Z"
   },
   {
    "duration": 211,
    "start_time": "2022-06-09T02:48:51.219Z"
   },
   {
    "duration": 286,
    "start_time": "2022-06-09T02:48:51.432Z"
   },
   {
    "duration": 6,
    "start_time": "2022-06-09T02:48:51.727Z"
   },
   {
    "duration": 8,
    "start_time": "2022-06-09T02:48:51.734Z"
   },
   {
    "duration": 5,
    "start_time": "2022-06-09T02:48:51.743Z"
   },
   {
    "duration": 5,
    "start_time": "2022-06-09T02:48:51.750Z"
   },
   {
    "duration": 8,
    "start_time": "2022-06-09T02:48:51.756Z"
   },
   {
    "duration": 8,
    "start_time": "2022-06-09T02:48:51.765Z"
   },
   {
    "duration": 7,
    "start_time": "2022-06-09T02:48:51.774Z"
   },
   {
    "duration": 518,
    "start_time": "2022-06-09T02:48:51.783Z"
   },
   {
    "duration": 8,
    "start_time": "2022-06-09T02:48:52.304Z"
   },
   {
    "duration": 14,
    "start_time": "2022-06-09T02:48:52.313Z"
   },
   {
    "duration": 11,
    "start_time": "2022-06-09T02:48:52.328Z"
   },
   {
    "duration": 607,
    "start_time": "2022-06-09T02:48:52.340Z"
   },
   {
    "duration": 8,
    "start_time": "2022-06-09T02:48:52.949Z"
   },
   {
    "duration": 11,
    "start_time": "2022-06-09T02:48:52.958Z"
   },
   {
    "duration": 368,
    "start_time": "2022-06-09T02:48:52.971Z"
   },
   {
    "duration": 8,
    "start_time": "2022-06-09T02:48:53.341Z"
   },
   {
    "duration": 4,
    "start_time": "2022-06-09T02:48:53.350Z"
   },
   {
    "duration": 308,
    "start_time": "2022-06-09T02:48:53.356Z"
   },
   {
    "duration": 142,
    "start_time": "2022-06-09T02:48:53.665Z"
   },
   {
    "duration": 138,
    "start_time": "2022-06-09T02:48:53.809Z"
   },
   {
    "duration": 16,
    "start_time": "2022-06-09T02:48:53.949Z"
   },
   {
    "duration": 126,
    "start_time": "2022-06-09T02:48:53.967Z"
   },
   {
    "duration": 1552,
    "start_time": "2022-06-11T06:59:21.836Z"
   },
   {
    "duration": 9,
    "start_time": "2022-06-11T06:59:23.826Z"
   },
   {
    "duration": 5,
    "start_time": "2022-06-11T06:59:25.170Z"
   },
   {
    "duration": 9,
    "start_time": "2022-06-11T06:59:29.875Z"
   },
   {
    "duration": 4,
    "start_time": "2022-06-11T06:59:30.626Z"
   },
   {
    "duration": 12,
    "start_time": "2022-06-11T06:59:31.195Z"
   },
   {
    "duration": 6,
    "start_time": "2022-06-11T06:59:46.170Z"
   },
   {
    "duration": 21,
    "start_time": "2022-06-11T06:59:55.706Z"
   },
   {
    "duration": 15,
    "start_time": "2022-06-11T07:00:00.461Z"
   },
   {
    "duration": 13,
    "start_time": "2022-06-11T07:00:06.275Z"
   },
   {
    "duration": 11,
    "start_time": "2022-06-11T07:00:07.147Z"
   },
   {
    "duration": 8,
    "start_time": "2022-06-11T07:00:11.171Z"
   },
   {
    "duration": 26,
    "start_time": "2022-06-11T07:00:12.810Z"
   },
   {
    "duration": 170,
    "start_time": "2022-06-11T07:03:57.029Z"
   },
   {
    "duration": 20,
    "start_time": "2022-06-11T07:04:03.540Z"
   },
   {
    "duration": 3349,
    "start_time": "2022-06-11T07:04:09.990Z"
   },
   {
    "duration": 144,
    "start_time": "2022-06-11T07:05:15.981Z"
   },
   {
    "duration": 163,
    "start_time": "2022-06-11T07:05:19.597Z"
   },
   {
    "duration": 2,
    "start_time": "2022-06-11T07:11:51.353Z"
   },
   {
    "duration": 2,
    "start_time": "2022-06-11T07:12:26.162Z"
   },
   {
    "duration": 3,
    "start_time": "2022-06-11T07:12:37.010Z"
   },
   {
    "duration": 2,
    "start_time": "2022-06-11T07:12:51.571Z"
   },
   {
    "duration": 29,
    "start_time": "2022-06-11T07:14:04.803Z"
   },
   {
    "duration": 125,
    "start_time": "2022-06-11T07:14:17.930Z"
   },
   {
    "duration": 1615,
    "start_time": "2022-06-12T17:22:13.349Z"
   },
   {
    "duration": 11,
    "start_time": "2022-06-12T17:22:18.358Z"
   },
   {
    "duration": 4,
    "start_time": "2022-06-12T17:22:20.310Z"
   },
   {
    "duration": 9,
    "start_time": "2022-06-12T17:22:23.514Z"
   },
   {
    "duration": 5,
    "start_time": "2022-06-12T17:22:24.139Z"
   },
   {
    "duration": 12,
    "start_time": "2022-06-12T17:22:24.675Z"
   },
   {
    "duration": 6,
    "start_time": "2022-06-12T17:22:27.756Z"
   },
   {
    "duration": 18,
    "start_time": "2022-06-12T17:22:30.070Z"
   },
   {
    "duration": 14,
    "start_time": "2022-06-12T17:22:34.318Z"
   },
   {
    "duration": 13,
    "start_time": "2022-06-12T17:22:34.955Z"
   },
   {
    "duration": 13,
    "start_time": "2022-06-12T17:22:35.667Z"
   },
   {
    "duration": 7,
    "start_time": "2022-06-12T17:22:39.204Z"
   },
   {
    "duration": 38,
    "start_time": "2022-06-12T17:22:41.014Z"
   },
   {
    "duration": 323,
    "start_time": "2022-06-12T17:28:03.673Z"
   },
   {
    "duration": 19,
    "start_time": "2022-06-12T17:46:22.872Z"
   },
   {
    "duration": 6782,
    "start_time": "2022-06-12T17:50:57.818Z"
   },
   {
    "duration": 5069,
    "start_time": "2022-06-12T17:55:31.678Z"
   },
   {
    "duration": 104,
    "start_time": "2022-06-12T17:59:54.071Z"
   },
   {
    "duration": 32,
    "start_time": "2022-06-12T18:00:23.649Z"
   },
   {
    "duration": 26,
    "start_time": "2022-06-12T18:00:34.387Z"
   },
   {
    "duration": 6627,
    "start_time": "2022-06-12T18:01:25.427Z"
   },
   {
    "duration": 11225,
    "start_time": "2022-06-12T18:04:08.325Z"
   },
   {
    "duration": 10908,
    "start_time": "2022-06-12T18:05:36.827Z"
   },
   {
    "duration": 40,
    "start_time": "2022-06-12T18:07:33.013Z"
   },
   {
    "duration": 225,
    "start_time": "2022-06-12T18:08:37.966Z"
   },
   {
    "duration": 599,
    "start_time": "2022-06-12T18:11:33.825Z"
   },
   {
    "duration": 154,
    "start_time": "2022-06-12T18:12:44.896Z"
   },
   {
    "duration": 9,
    "start_time": "2022-06-12T18:14:01.667Z"
   },
   {
    "duration": 3,
    "start_time": "2022-06-12T18:19:33.739Z"
   },
   {
    "duration": 7,
    "start_time": "2022-06-12T18:19:36.557Z"
   },
   {
    "duration": 6,
    "start_time": "2022-06-12T18:19:37.580Z"
   },
   {
    "duration": 6,
    "start_time": "2022-06-12T18:19:38.452Z"
   },
   {
    "duration": 11,
    "start_time": "2022-06-12T18:19:49.916Z"
   },
   {
    "duration": 9,
    "start_time": "2022-06-12T18:19:53.420Z"
   },
   {
    "duration": 8,
    "start_time": "2022-06-12T18:19:55.861Z"
   },
   {
    "duration": 5,
    "start_time": "2022-06-12T18:25:58.368Z"
   },
   {
    "duration": 26,
    "start_time": "2022-06-12T18:30:38.546Z"
   },
   {
    "duration": 4,
    "start_time": "2022-06-12T18:36:14.934Z"
   },
   {
    "duration": 13,
    "start_time": "2022-06-12T18:36:34.397Z"
   },
   {
    "duration": 9,
    "start_time": "2022-06-12T18:37:17.308Z"
   },
   {
    "duration": 8,
    "start_time": "2022-06-12T18:39:29.031Z"
   },
   {
    "duration": 12,
    "start_time": "2022-06-12T18:40:56.752Z"
   },
   {
    "duration": 30,
    "start_time": "2022-06-12T18:42:02.175Z"
   },
   {
    "duration": 12,
    "start_time": "2022-06-12T18:45:52.026Z"
   },
   {
    "duration": 6,
    "start_time": "2022-06-12T18:50:17.357Z"
   },
   {
    "duration": 27,
    "start_time": "2022-06-12T18:51:19.886Z"
   },
   {
    "duration": 3125,
    "start_time": "2022-06-12T18:56:11.449Z"
   },
   {
    "duration": 7403,
    "start_time": "2022-06-12T19:03:58.039Z"
   },
   {
    "duration": 4391,
    "start_time": "2022-06-12T19:05:50.957Z"
   },
   {
    "duration": 11510,
    "start_time": "2022-06-12T19:07:09.759Z"
   },
   {
    "duration": 5596,
    "start_time": "2022-06-12T19:07:24.633Z"
   },
   {
    "duration": 34,
    "start_time": "2022-06-12T19:10:36.106Z"
   },
   {
    "duration": 31,
    "start_time": "2022-06-12T19:14:13.388Z"
   },
   {
    "duration": 5,
    "start_time": "2022-06-12T19:20:05.640Z"
   },
   {
    "duration": 267,
    "start_time": "2022-06-12T19:20:06.974Z"
   },
   {
    "duration": 145,
    "start_time": "2022-06-12T19:20:36.461Z"
   },
   {
    "duration": 134,
    "start_time": "2022-06-12T19:20:37.222Z"
   },
   {
    "duration": 3035,
    "start_time": "2022-06-12T19:28:57.899Z"
   },
   {
    "duration": 3102,
    "start_time": "2022-06-12T19:29:23.371Z"
   },
   {
    "duration": 5,
    "start_time": "2022-06-12T19:32:59.741Z"
   },
   {
    "duration": 36,
    "start_time": "2022-06-12T19:35:05.167Z"
   },
   {
    "duration": 10,
    "start_time": "2022-06-12T19:36:12.799Z"
   },
   {
    "duration": 1390,
    "start_time": "2022-06-12T19:36:42.574Z"
   },
   {
    "duration": 10,
    "start_time": "2022-06-12T19:36:44.736Z"
   },
   {
    "duration": 4,
    "start_time": "2022-06-12T19:36:46.078Z"
   },
   {
    "duration": 16,
    "start_time": "2022-06-12T19:36:48.014Z"
   },
   {
    "duration": 4,
    "start_time": "2022-06-12T19:36:49.070Z"
   },
   {
    "duration": 15,
    "start_time": "2022-06-12T19:36:49.631Z"
   },
   {
    "duration": 8,
    "start_time": "2022-06-12T19:36:51.032Z"
   },
   {
    "duration": 23,
    "start_time": "2022-06-12T19:36:52.669Z"
   },
   {
    "duration": 15,
    "start_time": "2022-06-12T19:36:54.766Z"
   },
   {
    "duration": 13,
    "start_time": "2022-06-12T19:36:55.433Z"
   },
   {
    "duration": 14,
    "start_time": "2022-06-12T19:36:56.139Z"
   },
   {
    "duration": 9,
    "start_time": "2022-06-12T19:36:57.437Z"
   },
   {
    "duration": 38,
    "start_time": "2022-06-12T19:36:58.606Z"
   },
   {
    "duration": 304,
    "start_time": "2022-06-12T19:37:03.526Z"
   },
   {
    "duration": 19,
    "start_time": "2022-06-12T19:37:11.478Z"
   },
   {
    "duration": 7129,
    "start_time": "2022-06-12T19:37:12.918Z"
   },
   {
    "duration": 31,
    "start_time": "2022-06-12T19:39:07.408Z"
   },
   {
    "duration": 11878,
    "start_time": "2022-06-12T19:39:29.407Z"
   },
   {
    "duration": 11486,
    "start_time": "2022-06-12T19:39:44.168Z"
   },
   {
    "duration": 108,
    "start_time": "2022-06-12T19:41:23.713Z"
   },
   {
    "duration": 788,
    "start_time": "2022-06-12T19:41:27.641Z"
   },
   {
    "duration": 153,
    "start_time": "2022-06-12T19:41:35.950Z"
   },
   {
    "duration": 9,
    "start_time": "2022-06-12T19:41:51.664Z"
   },
   {
    "duration": 7,
    "start_time": "2022-06-12T19:41:52.416Z"
   },
   {
    "duration": 8,
    "start_time": "2022-06-12T19:41:53.576Z"
   },
   {
    "duration": 12,
    "start_time": "2022-06-12T19:42:42.941Z"
   },
   {
    "duration": 13,
    "start_time": "2022-06-12T19:42:48.449Z"
   },
   {
    "duration": 8,
    "start_time": "2022-06-12T19:43:02.082Z"
   },
   {
    "duration": 13,
    "start_time": "2022-06-12T19:43:17.257Z"
   },
   {
    "duration": 3225,
    "start_time": "2022-06-12T19:43:44.770Z"
   },
   {
    "duration": 3021,
    "start_time": "2022-06-12T19:44:14.639Z"
   },
   {
    "duration": 4297,
    "start_time": "2022-06-12T19:44:36.642Z"
   },
   {
    "duration": 5991,
    "start_time": "2022-06-12T19:45:57.492Z"
   },
   {
    "duration": 46,
    "start_time": "2022-06-12T19:47:02.100Z"
   },
   {
    "duration": 5,
    "start_time": "2022-06-12T19:47:31.563Z"
   },
   {
    "duration": 106,
    "start_time": "2022-06-12T19:47:33.348Z"
   },
   {
    "duration": 11,
    "start_time": "2022-06-12T19:50:46.485Z"
   },
   {
    "duration": 12,
    "start_time": "2022-06-12T19:52:50.350Z"
   },
   {
    "duration": 12,
    "start_time": "2022-06-12T19:53:39.487Z"
   },
   {
    "duration": 1366,
    "start_time": "2022-06-12T19:54:07.080Z"
   },
   {
    "duration": 2298,
    "start_time": "2022-06-12T20:00:17.619Z"
   },
   {
    "duration": 2496,
    "start_time": "2022-06-12T20:03:18.077Z"
   },
   {
    "duration": 90,
    "start_time": "2022-06-12T20:06:51.638Z"
   },
   {
    "duration": 5,
    "start_time": "2022-06-12T20:09:48.742Z"
   },
   {
    "duration": 254,
    "start_time": "2022-06-12T20:09:49.983Z"
   },
   {
    "duration": 140,
    "start_time": "2022-06-12T20:09:54.126Z"
   },
   {
    "duration": 118,
    "start_time": "2022-06-12T20:09:56.743Z"
   },
   {
    "duration": 29,
    "start_time": "2022-06-12T20:18:57.300Z"
   },
   {
    "duration": 23,
    "start_time": "2022-06-12T20:19:15.723Z"
   },
   {
    "duration": 14,
    "start_time": "2022-06-12T20:20:01.780Z"
   },
   {
    "duration": 14,
    "start_time": "2022-06-12T20:20:47.820Z"
   },
   {
    "duration": 12,
    "start_time": "2022-06-12T20:21:46.148Z"
   },
   {
    "duration": 10,
    "start_time": "2022-06-12T20:23:51.909Z"
   },
   {
    "duration": 12,
    "start_time": "2022-06-12T20:30:57.233Z"
   },
   {
    "duration": 6,
    "start_time": "2022-06-12T20:42:10.703Z"
   },
   {
    "duration": 8,
    "start_time": "2022-06-12T20:47:37.602Z"
   },
   {
    "duration": 11,
    "start_time": "2022-06-12T20:58:50.141Z"
   },
   {
    "duration": 13,
    "start_time": "2022-06-12T21:00:46.688Z"
   },
   {
    "duration": 5961,
    "start_time": "2022-06-12T21:05:42.140Z"
   },
   {
    "duration": 8877,
    "start_time": "2022-06-12T21:08:43.197Z"
   },
   {
    "duration": 173,
    "start_time": "2022-06-12T21:10:53.917Z"
   },
   {
    "duration": 41,
    "start_time": "2022-06-17T12:30:36.875Z"
   },
   {
    "duration": 22,
    "start_time": "2022-06-18T05:02:32.338Z"
   },
   {
    "duration": 1617,
    "start_time": "2022-06-18T05:02:32.362Z"
   },
   {
    "duration": 9,
    "start_time": "2022-06-18T05:02:33.980Z"
   },
   {
    "duration": 3,
    "start_time": "2022-06-18T05:02:33.992Z"
   },
   {
    "duration": 9,
    "start_time": "2022-06-18T05:02:33.997Z"
   },
   {
    "duration": 4,
    "start_time": "2022-06-18T05:02:34.007Z"
   },
   {
    "duration": 17,
    "start_time": "2022-06-18T05:02:34.012Z"
   },
   {
    "duration": 6,
    "start_time": "2022-06-18T05:02:34.031Z"
   },
   {
    "duration": 26,
    "start_time": "2022-06-18T05:02:34.039Z"
   },
   {
    "duration": 14,
    "start_time": "2022-06-18T05:02:34.094Z"
   },
   {
    "duration": 13,
    "start_time": "2022-06-18T05:02:34.110Z"
   },
   {
    "duration": 11,
    "start_time": "2022-06-18T05:02:34.125Z"
   },
   {
    "duration": 7,
    "start_time": "2022-06-18T05:02:34.138Z"
   },
   {
    "duration": 60,
    "start_time": "2022-06-18T05:02:34.146Z"
   },
   {
    "duration": 319,
    "start_time": "2022-06-18T05:02:34.207Z"
   },
   {
    "duration": 22,
    "start_time": "2022-06-18T05:02:34.528Z"
   },
   {
    "duration": 6594,
    "start_time": "2022-06-18T05:02:34.552Z"
   },
   {
    "duration": 10413,
    "start_time": "2022-06-18T05:02:41.148Z"
   },
   {
    "duration": 97,
    "start_time": "2022-06-18T05:02:51.563Z"
   },
   {
    "duration": 240,
    "start_time": "2022-06-18T05:02:51.662Z"
   },
   {
    "duration": 224,
    "start_time": "2022-06-18T05:02:51.995Z"
   },
   {
    "duration": 6,
    "start_time": "2022-06-18T05:02:52.221Z"
   },
   {
    "duration": 8,
    "start_time": "2022-06-18T05:02:52.228Z"
   },
   {
    "duration": 7,
    "start_time": "2022-06-18T05:02:52.237Z"
   },
   {
    "duration": 9,
    "start_time": "2022-06-18T05:02:52.246Z"
   },
   {
    "duration": 10,
    "start_time": "2022-06-18T05:02:52.257Z"
   },
   {
    "duration": 7,
    "start_time": "2022-06-18T05:02:52.295Z"
   },
   {
    "duration": 11,
    "start_time": "2022-06-18T05:02:52.306Z"
   },
   {
    "duration": 2845,
    "start_time": "2022-06-18T05:02:52.319Z"
   },
   {
    "duration": 4065,
    "start_time": "2022-06-18T05:02:55.165Z"
   },
   {
    "duration": 5350,
    "start_time": "2022-06-18T05:02:59.232Z"
   },
   {
    "duration": 110,
    "start_time": "2022-06-18T05:03:04.584Z"
   },
   {
    "duration": 105,
    "start_time": "2022-06-18T05:03:04.697Z"
   },
   {
    "duration": 1363,
    "start_time": "2022-06-18T05:03:04.804Z"
   },
   {
    "duration": 2047,
    "start_time": "2022-06-18T05:03:06.169Z"
   },
   {
    "duration": 2363,
    "start_time": "2022-06-18T05:03:08.218Z"
   },
   {
    "duration": 19,
    "start_time": "2022-06-18T05:03:10.583Z"
   },
   {
    "duration": 211,
    "start_time": "2022-06-18T05:03:10.603Z"
   },
   {
    "duration": 280,
    "start_time": "2022-06-18T05:03:10.816Z"
   },
   {
    "duration": 140,
    "start_time": "2022-06-18T05:03:11.097Z"
   },
   {
    "duration": 126,
    "start_time": "2022-06-18T05:03:11.238Z"
   },
   {
    "duration": 5,
    "start_time": "2022-06-18T05:03:11.365Z"
   },
   {
    "duration": 35,
    "start_time": "2022-06-18T05:03:11.372Z"
   },
   {
    "duration": 40,
    "start_time": "2022-06-18T05:03:11.409Z"
   },
   {
    "duration": 5651,
    "start_time": "2022-06-18T05:03:11.451Z"
   },
   {
    "duration": 8882,
    "start_time": "2022-06-18T05:03:17.104Z"
   },
   {
    "duration": 164,
    "start_time": "2022-06-18T05:03:25.988Z"
   },
   {
    "duration": 249,
    "start_time": "2022-06-18T05:28:13.979Z"
   },
   {
    "duration": 0,
    "start_time": "2022-06-18T05:30:36.734Z"
   },
   {
    "duration": 44784,
    "start_time": "2022-06-18T05:30:45.064Z"
   },
   {
    "duration": 186344,
    "start_time": "2022-06-18T05:37:57.368Z"
   },
   {
    "duration": 185697,
    "start_time": "2022-06-18T05:47:02.404Z"
   },
   {
    "duration": 13874,
    "start_time": "2022-06-18T05:55:41.589Z"
   },
   {
    "duration": 69,
    "start_time": "2022-06-18T05:55:55.465Z"
   },
   {
    "duration": 8,
    "start_time": "2022-06-18T05:55:55.536Z"
   },
   {
    "duration": 4,
    "start_time": "2022-06-18T05:55:55.546Z"
   },
   {
    "duration": 11,
    "start_time": "2022-06-18T05:55:55.552Z"
   },
   {
    "duration": 3,
    "start_time": "2022-06-18T05:55:55.565Z"
   },
   {
    "duration": 31,
    "start_time": "2022-06-18T05:55:55.570Z"
   },
   {
    "duration": 10,
    "start_time": "2022-06-18T05:55:55.604Z"
   },
   {
    "duration": 20,
    "start_time": "2022-06-18T05:55:55.619Z"
   },
   {
    "duration": 13,
    "start_time": "2022-06-18T05:55:55.642Z"
   },
   {
    "duration": 40,
    "start_time": "2022-06-18T05:55:55.657Z"
   },
   {
    "duration": 17,
    "start_time": "2022-06-18T05:55:55.703Z"
   },
   {
    "duration": 10,
    "start_time": "2022-06-18T05:55:55.721Z"
   },
   {
    "duration": 29,
    "start_time": "2022-06-18T05:55:55.733Z"
   },
   {
    "duration": 381,
    "start_time": "2022-06-18T05:55:55.763Z"
   },
   {
    "duration": 25,
    "start_time": "2022-06-18T05:55:56.146Z"
   },
   {
    "duration": 7626,
    "start_time": "2022-06-18T05:55:56.173Z"
   },
   {
    "duration": 12160,
    "start_time": "2022-06-18T05:56:03.801Z"
   },
   {
    "duration": 105,
    "start_time": "2022-06-18T05:56:15.963Z"
   },
   {
    "duration": 191296,
    "start_time": "2022-06-18T05:56:16.070Z"
   },
   {
    "duration": 201,
    "start_time": "2022-06-18T06:01:11.176Z"
   },
   {
    "duration": 197950,
    "start_time": "2022-06-18T06:01:17.388Z"
   },
   {
    "duration": 0,
    "start_time": "2022-06-18T06:06:44.855Z"
   },
   {
    "duration": 36254,
    "start_time": "2022-06-18T06:06:48.028Z"
   },
   {
    "duration": 38536,
    "start_time": "2022-06-18T06:07:34.178Z"
   },
   {
    "duration": 9483,
    "start_time": "2022-06-18T06:08:15.394Z"
   },
   {
    "duration": 4683,
    "start_time": "2022-06-18T06:10:34.256Z"
   },
   {
    "duration": 182761,
    "start_time": "2022-06-18T06:10:45.037Z"
   },
   {
    "duration": 1699,
    "start_time": "2022-06-19T05:22:11.609Z"
   },
   {
    "duration": 16,
    "start_time": "2022-06-19T05:22:14.683Z"
   },
   {
    "duration": 4,
    "start_time": "2022-06-19T05:22:17.560Z"
   },
   {
    "duration": 10,
    "start_time": "2022-06-19T05:22:19.024Z"
   },
   {
    "duration": 5,
    "start_time": "2022-06-19T05:22:19.778Z"
   },
   {
    "duration": 14,
    "start_time": "2022-06-19T05:22:20.416Z"
   },
   {
    "duration": 8,
    "start_time": "2022-06-19T05:22:36.880Z"
   },
   {
    "duration": 21,
    "start_time": "2022-06-19T05:22:41.344Z"
   },
   {
    "duration": 17,
    "start_time": "2022-06-19T05:22:46.136Z"
   },
   {
    "duration": 17,
    "start_time": "2022-06-19T05:22:46.832Z"
   },
   {
    "duration": 10,
    "start_time": "2022-06-19T05:22:49.113Z"
   },
   {
    "duration": 8,
    "start_time": "2022-06-19T05:22:53.616Z"
   },
   {
    "duration": 30,
    "start_time": "2022-06-19T05:22:54.776Z"
   },
   {
    "duration": 14,
    "start_time": "2022-06-19T05:26:33.700Z"
   },
   {
    "duration": 10,
    "start_time": "2022-06-19T05:27:38.642Z"
   },
   {
    "duration": 10,
    "start_time": "2022-06-19T05:28:02.756Z"
   },
   {
    "duration": 11,
    "start_time": "2022-06-19T05:35:15.810Z"
   },
   {
    "duration": 12,
    "start_time": "2022-06-19T05:36:11.659Z"
   },
   {
    "duration": 12,
    "start_time": "2022-06-19T05:36:51.771Z"
   },
   {
    "duration": 305,
    "start_time": "2022-06-19T05:37:50.049Z"
   },
   {
    "duration": 27,
    "start_time": "2022-06-19T05:38:03.421Z"
   },
   {
    "duration": 234639,
    "start_time": "2022-06-19T05:40:11.054Z"
   },
   {
    "duration": 366,
    "start_time": "2022-06-19T05:45:54.257Z"
   },
   {
    "duration": 420,
    "start_time": "2022-06-19T05:47:23.514Z"
   },
   {
    "duration": 242,
    "start_time": "2022-06-19T05:47:36.679Z"
   },
   {
    "duration": 6,
    "start_time": "2022-06-19T05:47:43.377Z"
   },
   {
    "duration": 10,
    "start_time": "2022-06-19T05:47:44.159Z"
   },
   {
    "duration": 18,
    "start_time": "2022-06-19T05:47:45.045Z"
   },
   {
    "duration": 11,
    "start_time": "2022-06-19T05:48:36.754Z"
   },
   {
    "duration": 10,
    "start_time": "2022-06-19T05:48:41.819Z"
   },
   {
    "duration": 8,
    "start_time": "2022-06-19T05:49:00.064Z"
   },
   {
    "duration": 22,
    "start_time": "2022-06-19T05:49:05.141Z"
   },
   {
    "duration": 58,
    "start_time": "2022-06-19T06:04:54.422Z"
   },
   {
    "duration": 52,
    "start_time": "2022-06-19T06:06:30.534Z"
   },
   {
    "duration": 434,
    "start_time": "2022-06-19T06:10:01.153Z"
   },
   {
    "duration": 243554,
    "start_time": "2022-06-19T06:13:11.323Z"
   },
   {
    "duration": 203,
    "start_time": "2022-06-19T06:19:46.524Z"
   },
   {
    "duration": 12,
    "start_time": "2022-06-19T06:21:08.706Z"
   },
   {
    "duration": 12,
    "start_time": "2022-06-19T06:21:12.550Z"
   },
   {
    "duration": 3483,
    "start_time": "2022-06-19T06:21:29.981Z"
   },
   {
    "duration": 527,
    "start_time": "2022-06-19T06:22:46.254Z"
   },
   {
    "duration": 519913,
    "start_time": "2022-06-19T06:23:15.989Z"
   },
   {
    "duration": 10,
    "start_time": "2022-06-19T06:32:20.376Z"
   },
   {
    "duration": 16,
    "start_time": "2022-06-19T06:32:24.097Z"
   },
   {
    "duration": 3267,
    "start_time": "2022-06-19T06:32:36.690Z"
   },
   {
    "duration": 159,
    "start_time": "2022-06-19T06:37:45.379Z"
   },
   {
    "duration": 35,
    "start_time": "2022-06-19T06:38:16.257Z"
   },
   {
    "duration": 102109,
    "start_time": "2022-06-19T06:39:12.325Z"
   },
   {
    "duration": 103475,
    "start_time": "2022-06-19T07:05:15.058Z"
   },
   {
    "duration": 57,
    "start_time": "2022-06-19T07:10:27.519Z"
   },
   {
    "duration": 12,
    "start_time": "2022-06-19T07:12:46.008Z"
   },
   {
    "duration": 1747,
    "start_time": "2022-06-19T07:14:32.487Z"
   },
   {
    "duration": 51075,
    "start_time": "2022-06-19T07:16:57.162Z"
   },
   {
    "duration": 48,
    "start_time": "2022-06-19T07:19:45.622Z"
   },
   {
    "duration": 12,
    "start_time": "2022-06-19T07:22:03.789Z"
   },
   {
    "duration": 1122,
    "start_time": "2022-06-19T07:22:09.094Z"
   },
   {
    "duration": 45951,
    "start_time": "2022-06-19T07:22:56.183Z"
   },
   {
    "duration": 71,
    "start_time": "2022-06-19T07:24:17.858Z"
   },
   {
    "duration": 7,
    "start_time": "2022-06-19T07:59:02.648Z"
   },
   {
    "duration": 10,
    "start_time": "2022-06-19T07:59:04.978Z"
   },
   {
    "duration": 1554,
    "start_time": "2022-06-19T07:59:53.552Z"
   },
   {
    "duration": 9,
    "start_time": "2022-06-19T07:59:55.664Z"
   },
   {
    "duration": 5,
    "start_time": "2022-06-19T07:59:57.071Z"
   },
   {
    "duration": 10,
    "start_time": "2022-06-19T07:59:59.200Z"
   },
   {
    "duration": 5,
    "start_time": "2022-06-19T07:59:59.844Z"
   },
   {
    "duration": 13,
    "start_time": "2022-06-19T08:00:00.405Z"
   },
   {
    "duration": 6,
    "start_time": "2022-06-19T08:00:01.776Z"
   },
   {
    "duration": 21,
    "start_time": "2022-06-19T08:00:03.452Z"
   },
   {
    "duration": 15,
    "start_time": "2022-06-19T08:00:05.297Z"
   },
   {
    "duration": 14,
    "start_time": "2022-06-19T08:00:06.001Z"
   },
   {
    "duration": 12,
    "start_time": "2022-06-19T08:00:06.560Z"
   },
   {
    "duration": 7,
    "start_time": "2022-06-19T08:00:07.813Z"
   },
   {
    "duration": 34,
    "start_time": "2022-06-19T08:00:09.047Z"
   },
   {
    "duration": 10,
    "start_time": "2022-06-19T08:00:09.784Z"
   },
   {
    "duration": 11,
    "start_time": "2022-06-19T08:00:10.568Z"
   },
   {
    "duration": 15,
    "start_time": "2022-06-19T08:00:11.344Z"
   },
   {
    "duration": 338,
    "start_time": "2022-06-19T08:00:19.056Z"
   },
   {
    "duration": 31,
    "start_time": "2022-06-19T08:00:40.355Z"
   },
   {
    "duration": 246491,
    "start_time": "2022-06-19T08:00:42.305Z"
   },
   {
    "duration": 300,
    "start_time": "2022-06-19T08:04:48.798Z"
   },
   {
    "duration": 554,
    "start_time": "2022-06-19T08:05:42.655Z"
   },
   {
    "duration": 63,
    "start_time": "2022-06-19T08:24:59.072Z"
   },
   {
    "duration": 11,
    "start_time": "2022-06-19T08:25:04.570Z"
   },
   {
    "duration": 5,
    "start_time": "2022-06-19T08:25:06.322Z"
   },
   {
    "duration": 8,
    "start_time": "2022-06-19T08:25:10.562Z"
   },
   {
    "duration": 5,
    "start_time": "2022-06-19T08:25:17.353Z"
   },
   {
    "duration": 14,
    "start_time": "2022-06-19T08:25:18.274Z"
   },
   {
    "duration": 8,
    "start_time": "2022-06-19T08:25:19.755Z"
   },
   {
    "duration": 32,
    "start_time": "2022-06-19T08:25:22.260Z"
   },
   {
    "duration": 21,
    "start_time": "2022-06-19T08:25:24.490Z"
   },
   {
    "duration": 19,
    "start_time": "2022-06-19T08:25:25.322Z"
   },
   {
    "duration": 12,
    "start_time": "2022-06-19T08:25:26.082Z"
   },
   {
    "duration": 8,
    "start_time": "2022-06-19T08:25:27.553Z"
   },
   {
    "duration": 26,
    "start_time": "2022-06-19T08:25:28.778Z"
   },
   {
    "duration": 13,
    "start_time": "2022-06-19T08:25:29.882Z"
   },
   {
    "duration": 12,
    "start_time": "2022-06-19T08:25:43.811Z"
   },
   {
    "duration": 23,
    "start_time": "2022-06-19T08:25:44.653Z"
   },
   {
    "duration": 1553,
    "start_time": "2022-06-19T08:26:10.956Z"
   },
   {
    "duration": 12,
    "start_time": "2022-06-19T08:26:14.051Z"
   },
   {
    "duration": 4,
    "start_time": "2022-06-19T08:26:15.687Z"
   },
   {
    "duration": 11,
    "start_time": "2022-06-19T08:26:20.771Z"
   },
   {
    "duration": 4,
    "start_time": "2022-06-19T08:26:21.579Z"
   },
   {
    "duration": 30,
    "start_time": "2022-06-19T08:26:22.226Z"
   },
   {
    "duration": 5,
    "start_time": "2022-06-19T08:26:25.163Z"
   },
   {
    "duration": 19,
    "start_time": "2022-06-19T08:26:27.062Z"
   },
   {
    "duration": 17,
    "start_time": "2022-06-19T08:26:30.525Z"
   },
   {
    "duration": 16,
    "start_time": "2022-06-19T08:26:31.578Z"
   },
   {
    "duration": 12,
    "start_time": "2022-06-19T08:26:33.866Z"
   },
   {
    "duration": 11,
    "start_time": "2022-06-19T08:26:35.252Z"
   },
   {
    "duration": 29,
    "start_time": "2022-06-19T08:26:37.973Z"
   },
   {
    "duration": 12,
    "start_time": "2022-06-19T08:26:38.914Z"
   },
   {
    "duration": 11,
    "start_time": "2022-06-19T08:26:39.786Z"
   },
   {
    "duration": 11,
    "start_time": "2022-06-19T08:26:40.762Z"
   },
   {
    "duration": 323,
    "start_time": "2022-06-19T08:26:58.963Z"
   },
   {
    "duration": 32,
    "start_time": "2022-06-19T08:27:31.148Z"
   },
   {
    "duration": 256255,
    "start_time": "2022-06-19T08:27:34.220Z"
   },
   {
    "duration": 100,
    "start_time": "2022-06-19T08:32:41.213Z"
   },
   {
    "duration": 162,
    "start_time": "2022-06-19T08:32:50.583Z"
   },
   {
    "duration": 152,
    "start_time": "2022-06-19T08:33:12.357Z"
   },
   {
    "duration": 6,
    "start_time": "2022-06-19T08:33:25.885Z"
   },
   {
    "duration": 5,
    "start_time": "2022-06-19T08:33:27.118Z"
   },
   {
    "duration": 7,
    "start_time": "2022-06-19T08:33:28.069Z"
   },
   {
    "duration": 15,
    "start_time": "2022-06-19T08:34:33.062Z"
   },
   {
    "duration": 12,
    "start_time": "2022-06-19T08:34:39.686Z"
   },
   {
    "duration": 611,
    "start_time": "2022-06-19T08:34:55.119Z"
   },
   {
    "duration": 578,
    "start_time": "2022-06-19T08:35:06.326Z"
   },
   {
    "duration": 486240,
    "start_time": "2022-06-19T08:35:19.146Z"
   },
   {
    "duration": 397,
    "start_time": "2022-06-19T08:45:42.677Z"
   },
   {
    "duration": 154,
    "start_time": "2022-06-19T08:45:46.780Z"
   },
   {
    "duration": 9,
    "start_time": "2022-06-19T08:45:52.180Z"
   },
   {
    "duration": 17,
    "start_time": "2022-06-19T08:45:54.339Z"
   },
   {
    "duration": 3052,
    "start_time": "2022-06-19T08:45:59.867Z"
   },
   {
    "duration": 98562,
    "start_time": "2022-06-19T08:47:16.908Z"
   },
   {
    "duration": 261,
    "start_time": "2022-06-19T08:51:32.987Z"
   },
   {
    "duration": 31,
    "start_time": "2022-06-19T08:51:39.398Z"
   },
   {
    "duration": 14,
    "start_time": "2022-06-19T08:51:55.406Z"
   },
   {
    "duration": 1092,
    "start_time": "2022-06-19T08:52:01.799Z"
   },
   {
    "duration": 41332,
    "start_time": "2022-06-19T08:52:28.919Z"
   },
   {
    "duration": 46,
    "start_time": "2022-06-19T08:53:38.224Z"
   },
   {
    "duration": 5,
    "start_time": "2022-06-19T08:53:48.682Z"
   },
   {
    "duration": 168,
    "start_time": "2022-06-19T08:53:49.816Z"
   },
   {
    "duration": 244,
    "start_time": "2022-06-19T08:53:55.185Z"
   },
   {
    "duration": 59,
    "start_time": "2022-06-19T09:01:39.925Z"
   },
   {
    "duration": 125,
    "start_time": "2022-06-19T09:02:00.354Z"
   },
   {
    "duration": 15,
    "start_time": "2022-06-19T09:04:04.450Z"
   },
   {
    "duration": 21,
    "start_time": "2022-06-19T09:04:12.014Z"
   },
   {
    "duration": 11,
    "start_time": "2022-06-19T09:04:13.650Z"
   },
   {
    "duration": 8,
    "start_time": "2022-06-19T09:04:30.840Z"
   },
   {
    "duration": 3,
    "start_time": "2022-06-19T09:05:11.577Z"
   },
   {
    "duration": 1448,
    "start_time": "2022-06-19T09:13:29.122Z"
   },
   {
    "duration": 9,
    "start_time": "2022-06-19T09:13:35.753Z"
   },
   {
    "duration": 5,
    "start_time": "2022-06-19T09:13:37.519Z"
   },
   {
    "duration": 12,
    "start_time": "2022-06-19T09:13:39.599Z"
   },
   {
    "duration": 4,
    "start_time": "2022-06-19T09:13:40.167Z"
   },
   {
    "duration": 13,
    "start_time": "2022-06-19T09:13:40.814Z"
   },
   {
    "duration": 6,
    "start_time": "2022-06-19T09:13:42.154Z"
   },
   {
    "duration": 32,
    "start_time": "2022-06-19T09:13:44.398Z"
   },
   {
    "duration": 17,
    "start_time": "2022-06-19T09:13:48.357Z"
   },
   {
    "duration": 17,
    "start_time": "2022-06-19T09:13:49.263Z"
   },
   {
    "duration": 13,
    "start_time": "2022-06-19T09:13:49.878Z"
   },
   {
    "duration": 8,
    "start_time": "2022-06-19T09:13:53.161Z"
   },
   {
    "duration": 31,
    "start_time": "2022-06-19T09:13:55.790Z"
   },
   {
    "duration": 17,
    "start_time": "2022-06-19T09:14:00.752Z"
   },
   {
    "duration": 15,
    "start_time": "2022-06-19T09:14:01.555Z"
   },
   {
    "duration": 18,
    "start_time": "2022-06-19T09:14:02.224Z"
   },
   {
    "duration": 326,
    "start_time": "2022-06-19T09:14:12.237Z"
   },
   {
    "duration": 29,
    "start_time": "2022-06-19T09:14:30.543Z"
   },
   {
    "duration": 1586,
    "start_time": "2022-06-19T15:48:04.196Z"
   },
   {
    "duration": 9,
    "start_time": "2022-06-19T15:48:05.784Z"
   },
   {
    "duration": 5,
    "start_time": "2022-06-19T15:48:05.795Z"
   },
   {
    "duration": 11,
    "start_time": "2022-06-19T15:48:05.802Z"
   },
   {
    "duration": 5,
    "start_time": "2022-06-19T15:48:05.815Z"
   },
   {
    "duration": 24,
    "start_time": "2022-06-19T15:48:05.822Z"
   },
   {
    "duration": 5,
    "start_time": "2022-06-19T15:48:05.848Z"
   },
   {
    "duration": 18,
    "start_time": "2022-06-19T15:48:05.855Z"
   },
   {
    "duration": 14,
    "start_time": "2022-06-19T15:48:05.875Z"
   },
   {
    "duration": 12,
    "start_time": "2022-06-19T15:48:05.892Z"
   },
   {
    "duration": 40,
    "start_time": "2022-06-19T15:48:05.906Z"
   },
   {
    "duration": 6,
    "start_time": "2022-06-19T15:48:05.948Z"
   },
   {
    "duration": 28,
    "start_time": "2022-06-19T15:48:05.956Z"
   },
   {
    "duration": 11,
    "start_time": "2022-06-19T15:48:05.986Z"
   },
   {
    "duration": 12,
    "start_time": "2022-06-19T15:48:05.998Z"
   },
   {
    "duration": 39,
    "start_time": "2022-06-19T15:48:06.012Z"
   },
   {
    "duration": 302,
    "start_time": "2022-06-19T15:48:06.053Z"
   },
   {
    "duration": 22,
    "start_time": "2022-06-19T15:48:06.357Z"
   },
   {
    "duration": 219548,
    "start_time": "2022-06-19T15:48:06.381Z"
   },
   {
    "duration": 88,
    "start_time": "2022-06-19T15:51:45.931Z"
   },
   {
    "duration": 328,
    "start_time": "2022-06-19T15:51:46.021Z"
   },
   {
    "duration": 228,
    "start_time": "2022-06-19T15:51:46.443Z"
   },
   {
    "duration": 7,
    "start_time": "2022-06-19T15:51:46.673Z"
   },
   {
    "duration": 7,
    "start_time": "2022-06-19T15:51:46.682Z"
   },
   {
    "duration": 8,
    "start_time": "2022-06-19T15:51:46.691Z"
   },
   {
    "duration": 11,
    "start_time": "2022-06-19T15:51:46.700Z"
   },
   {
    "duration": 11,
    "start_time": "2022-06-19T15:51:46.741Z"
   },
   {
    "duration": 513,
    "start_time": "2022-06-19T15:51:46.756Z"
   },
   {
    "duration": 422733,
    "start_time": "2022-06-19T15:51:47.271Z"
   },
   {
    "duration": 379,
    "start_time": "2022-06-19T15:58:50.006Z"
   },
   {
    "duration": 157,
    "start_time": "2022-06-19T15:58:50.387Z"
   },
   {
    "duration": 102,
    "start_time": "2022-06-19T15:58:50.545Z"
   },
   {
    "duration": 15,
    "start_time": "2022-06-19T15:58:50.650Z"
   },
   {
    "duration": 2724,
    "start_time": "2022-06-19T15:58:50.667Z"
   },
   {
    "duration": 87318,
    "start_time": "2022-06-19T15:58:53.393Z"
   },
   {
    "duration": 254,
    "start_time": "2022-06-19T16:00:20.712Z"
   },
   {
    "duration": 27,
    "start_time": "2022-06-19T16:00:20.967Z"
   },
   {
    "duration": 97,
    "start_time": "2022-06-19T16:00:21.045Z"
   },
   {
    "duration": 1076,
    "start_time": "2022-06-19T16:00:21.144Z"
   },
   {
    "duration": 37167,
    "start_time": "2022-06-19T16:00:22.222Z"
   },
   {
    "duration": 13,
    "start_time": "2022-06-19T16:00:59.391Z"
   },
   {
    "duration": 5,
    "start_time": "2022-06-19T16:00:59.443Z"
   },
   {
    "duration": 235,
    "start_time": "2022-06-19T16:00:59.450Z"
   },
   {
    "duration": 155,
    "start_time": "2022-06-19T16:00:59.686Z"
   },
   {
    "duration": 13,
    "start_time": "2022-06-19T16:00:59.843Z"
   },
   {
    "duration": 7,
    "start_time": "2022-06-19T16:00:59.858Z"
   },
   {
    "duration": 6,
    "start_time": "2022-06-19T16:00:59.867Z"
   },
   {
    "duration": 4,
    "start_time": "2022-06-19T16:00:59.874Z"
   },
   {
    "duration": 5863,
    "start_time": "2022-06-19T16:00:59.880Z"
   },
   {
    "duration": 8808,
    "start_time": "2022-06-19T16:01:05.745Z"
   },
   {
    "duration": 158,
    "start_time": "2022-06-19T16:01:14.555Z"
   },
   {
    "duration": 1622,
    "start_time": "2022-06-19T16:40:07.159Z"
   },
   {
    "duration": 11,
    "start_time": "2022-06-19T16:40:13.576Z"
   },
   {
    "duration": 3,
    "start_time": "2022-06-19T16:40:20.211Z"
   },
   {
    "duration": 9,
    "start_time": "2022-06-19T16:40:21.890Z"
   },
   {
    "duration": 3,
    "start_time": "2022-06-19T16:40:22.610Z"
   },
   {
    "duration": 12,
    "start_time": "2022-06-19T16:40:23.194Z"
   },
   {
    "duration": 6,
    "start_time": "2022-06-19T16:40:26.556Z"
   },
   {
    "duration": 18,
    "start_time": "2022-06-19T16:40:29.691Z"
   },
   {
    "duration": 23,
    "start_time": "2022-06-19T16:40:31.547Z"
   },
   {
    "duration": 17,
    "start_time": "2022-06-19T16:40:33.865Z"
   },
   {
    "duration": 13,
    "start_time": "2022-06-19T16:40:34.691Z"
   },
   {
    "duration": 7,
    "start_time": "2022-06-19T16:40:39.523Z"
   },
   {
    "duration": 25,
    "start_time": "2022-06-19T16:40:40.523Z"
   },
   {
    "duration": 11,
    "start_time": "2022-06-19T16:40:41.098Z"
   },
   {
    "duration": 10,
    "start_time": "2022-06-19T16:40:41.619Z"
   },
   {
    "duration": 14,
    "start_time": "2022-06-19T16:40:42.171Z"
   },
   {
    "duration": 277,
    "start_time": "2022-06-19T16:40:50.367Z"
   },
   {
    "duration": 21,
    "start_time": "2022-06-19T16:40:52.279Z"
   },
   {
    "duration": 221517,
    "start_time": "2022-06-19T16:41:06.306Z"
   },
   {
    "duration": 86,
    "start_time": "2022-06-19T16:44:47.825Z"
   },
   {
    "duration": 855,
    "start_time": "2022-06-19T16:44:47.913Z"
   },
   {
    "duration": 304,
    "start_time": "2022-06-19T16:44:48.773Z"
   },
   {
    "duration": 1333,
    "start_time": "2022-06-19T16:47:56.503Z"
   },
   {
    "duration": 9,
    "start_time": "2022-06-19T16:47:58.690Z"
   },
   {
    "duration": 3,
    "start_time": "2022-06-19T16:47:59.706Z"
   },
   {
    "duration": 8,
    "start_time": "2022-06-19T16:48:03.994Z"
   },
   {
    "duration": 3,
    "start_time": "2022-06-19T16:48:04.706Z"
   },
   {
    "duration": 14,
    "start_time": "2022-06-19T16:48:05.218Z"
   },
   {
    "duration": 7,
    "start_time": "2022-06-19T16:48:07.882Z"
   },
   {
    "duration": 20,
    "start_time": "2022-06-19T16:48:10.545Z"
   },
   {
    "duration": 18,
    "start_time": "2022-06-19T16:48:13.351Z"
   },
   {
    "duration": 14,
    "start_time": "2022-06-19T16:48:15.298Z"
   },
   {
    "duration": 11,
    "start_time": "2022-06-19T16:48:15.754Z"
   },
   {
    "duration": 6,
    "start_time": "2022-06-19T16:48:20.802Z"
   },
   {
    "duration": 24,
    "start_time": "2022-06-19T16:48:22.091Z"
   },
   {
    "duration": 11,
    "start_time": "2022-06-19T16:48:24.770Z"
   },
   {
    "duration": 14,
    "start_time": "2022-06-19T16:48:25.306Z"
   },
   {
    "duration": 14,
    "start_time": "2022-06-19T16:48:25.851Z"
   },
   {
    "duration": 287,
    "start_time": "2022-06-19T16:48:33.322Z"
   },
   {
    "duration": 20,
    "start_time": "2022-06-19T16:49:09.315Z"
   },
   {
    "duration": 203505,
    "start_time": "2022-06-19T16:49:27.553Z"
   },
   {
    "duration": 1711,
    "start_time": "2022-06-20T18:44:10.532Z"
   },
   {
    "duration": 13,
    "start_time": "2022-06-20T18:44:18.376Z"
   },
   {
    "duration": 4,
    "start_time": "2022-06-20T18:44:20.031Z"
   },
   {
    "duration": 8,
    "start_time": "2022-06-20T18:44:24.944Z"
   },
   {
    "duration": 5,
    "start_time": "2022-06-20T18:44:25.616Z"
   },
   {
    "duration": 12,
    "start_time": "2022-06-20T18:44:26.160Z"
   },
   {
    "duration": 8,
    "start_time": "2022-06-20T18:44:29.264Z"
   },
   {
    "duration": 31,
    "start_time": "2022-06-20T18:44:30.815Z"
   },
   {
    "duration": 18,
    "start_time": "2022-06-20T18:44:34.816Z"
   },
   {
    "duration": 17,
    "start_time": "2022-06-20T18:44:35.521Z"
   },
   {
    "duration": 16,
    "start_time": "2022-06-20T18:44:36.208Z"
   },
   {
    "duration": 8,
    "start_time": "2022-06-20T18:44:39.344Z"
   },
   {
    "duration": 30,
    "start_time": "2022-06-20T18:44:42.104Z"
   },
   {
    "duration": 12,
    "start_time": "2022-06-20T18:44:42.767Z"
   },
   {
    "duration": 17,
    "start_time": "2022-06-20T18:44:43.512Z"
   },
   {
    "duration": 19,
    "start_time": "2022-06-20T18:44:44.151Z"
   },
   {
    "duration": 318,
    "start_time": "2022-06-20T18:44:55.952Z"
   },
   {
    "duration": 45,
    "start_time": "2022-06-20T18:45:31.491Z"
   },
   {
    "duration": 226671,
    "start_time": "2022-06-20T18:45:39.348Z"
   },
   {
    "duration": 83,
    "start_time": "2022-06-20T18:49:50.171Z"
   },
   {
    "duration": 272,
    "start_time": "2022-06-20T18:50:02.932Z"
   },
   {
    "duration": 156,
    "start_time": "2022-06-20T18:50:18.779Z"
   },
   {
    "duration": 122,
    "start_time": "2022-06-20T18:50:27.219Z"
   },
   {
    "duration": 7,
    "start_time": "2022-06-20T18:50:32.987Z"
   },
   {
    "duration": 7,
    "start_time": "2022-06-20T18:50:33.730Z"
   },
   {
    "duration": 8,
    "start_time": "2022-06-20T18:50:34.498Z"
   },
   {
    "duration": 9,
    "start_time": "2022-06-20T18:50:52.363Z"
   },
   {
    "duration": 9,
    "start_time": "2022-06-20T18:50:54.964Z"
   },
   {
    "duration": 484,
    "start_time": "2022-06-20T18:51:14.027Z"
   },
   {
    "duration": 834085,
    "start_time": "2022-06-20T18:52:20.332Z"
   },
   {
    "duration": 364,
    "start_time": "2022-06-20T19:06:52.111Z"
   },
   {
    "duration": 188,
    "start_time": "2022-06-20T19:06:53.642Z"
   },
   {
    "duration": 9,
    "start_time": "2022-06-20T19:07:07.669Z"
   },
   {
    "duration": 13,
    "start_time": "2022-06-20T19:07:08.950Z"
   },
   {
    "duration": 2899,
    "start_time": "2022-06-20T19:07:32.199Z"
   },
   {
    "duration": 802092,
    "start_time": "2022-06-20T19:08:45.099Z"
   },
   {
    "duration": 583,
    "start_time": "2022-06-20T19:25:12.633Z"
   },
   {
    "duration": 40,
    "start_time": "2022-06-20T19:25:29.799Z"
   },
   {
    "duration": 13,
    "start_time": "2022-06-20T19:25:57.048Z"
   },
   {
    "duration": 1059,
    "start_time": "2022-06-20T19:26:05.320Z"
   },
   {
    "duration": 277103,
    "start_time": "2022-06-20T19:26:47.681Z"
   },
   {
    "duration": 20,
    "start_time": "2022-06-20T19:32:55.808Z"
   },
   {
    "duration": 5,
    "start_time": "2022-06-20T19:34:53.998Z"
   },
   {
    "duration": 149,
    "start_time": "2022-06-20T19:34:55.006Z"
   },
   {
    "duration": 162,
    "start_time": "2022-06-20T19:34:56.366Z"
   },
   {
    "duration": 12,
    "start_time": "2022-06-20T19:44:14.633Z"
   },
   {
    "duration": 8,
    "start_time": "2022-06-20T19:44:16.153Z"
   },
   {
    "duration": 4,
    "start_time": "2022-06-20T19:44:16.936Z"
   },
   {
    "duration": 7,
    "start_time": "2022-06-20T19:55:52.484Z"
   },
   {
    "duration": 55,
    "start_time": "2022-06-20T21:24:41.504Z"
   },
   {
    "duration": 1328,
    "start_time": "2022-06-20T21:25:20.092Z"
   },
   {
    "duration": 10,
    "start_time": "2022-06-20T21:25:26.633Z"
   },
   {
    "duration": 4,
    "start_time": "2022-06-20T21:25:27.799Z"
   },
   {
    "duration": 9,
    "start_time": "2022-06-20T21:25:29.292Z"
   },
   {
    "duration": 4,
    "start_time": "2022-06-20T21:25:29.808Z"
   },
   {
    "duration": 16,
    "start_time": "2022-06-20T21:25:30.319Z"
   },
   {
    "duration": 7,
    "start_time": "2022-06-20T21:25:31.391Z"
   },
   {
    "duration": 25,
    "start_time": "2022-06-20T21:25:33.530Z"
   },
   {
    "duration": 14,
    "start_time": "2022-06-20T21:25:35.295Z"
   },
   {
    "duration": 17,
    "start_time": "2022-06-20T21:25:35.823Z"
   },
   {
    "duration": 13,
    "start_time": "2022-06-20T21:25:37.120Z"
   },
   {
    "duration": 7,
    "start_time": "2022-06-20T21:25:38.584Z"
   },
   {
    "duration": 25,
    "start_time": "2022-06-20T21:25:39.761Z"
   },
   {
    "duration": 14,
    "start_time": "2022-06-20T21:25:40.319Z"
   },
   {
    "duration": 11,
    "start_time": "2022-06-20T21:25:40.903Z"
   },
   {
    "duration": 11,
    "start_time": "2022-06-20T21:25:42.007Z"
   },
   {
    "duration": 281,
    "start_time": "2022-06-20T21:25:50.160Z"
   },
   {
    "duration": 23,
    "start_time": "2022-06-20T21:25:58.191Z"
   },
   {
    "duration": 213954,
    "start_time": "2022-06-20T21:25:59.065Z"
   },
   {
    "duration": 1472,
    "start_time": "2022-06-20T21:30:29.519Z"
   },
   {
    "duration": 10,
    "start_time": "2022-06-20T21:30:31.850Z"
   },
   {
    "duration": 7,
    "start_time": "2022-06-20T21:30:33.627Z"
   },
   {
    "duration": 9,
    "start_time": "2022-06-20T21:30:36.466Z"
   },
   {
    "duration": 4,
    "start_time": "2022-06-20T21:30:43.354Z"
   },
   {
    "duration": 15,
    "start_time": "2022-06-20T21:30:44.555Z"
   },
   {
    "duration": 5,
    "start_time": "2022-06-20T21:30:46.210Z"
   },
   {
    "duration": 20,
    "start_time": "2022-06-20T21:30:47.826Z"
   },
   {
    "duration": 13,
    "start_time": "2022-06-20T21:30:49.810Z"
   },
   {
    "duration": 12,
    "start_time": "2022-06-20T21:30:50.658Z"
   },
   {
    "duration": 12,
    "start_time": "2022-06-20T21:30:51.436Z"
   },
   {
    "duration": 8,
    "start_time": "2022-06-20T21:30:53.028Z"
   },
   {
    "duration": 28,
    "start_time": "2022-06-20T21:30:54.970Z"
   },
   {
    "duration": 12,
    "start_time": "2022-06-20T21:30:55.987Z"
   },
   {
    "duration": 15,
    "start_time": "2022-06-20T21:30:56.632Z"
   },
   {
    "duration": 16,
    "start_time": "2022-06-20T21:30:57.219Z"
   },
   {
    "duration": 293,
    "start_time": "2022-06-20T21:31:02.515Z"
   },
   {
    "duration": 24,
    "start_time": "2022-06-20T21:31:41.541Z"
   },
   {
    "duration": 211425,
    "start_time": "2022-06-20T21:31:47.339Z"
   },
   {
    "duration": 284,
    "start_time": "2022-06-20T21:36:03.604Z"
   },
   {
    "duration": 331,
    "start_time": "2022-06-20T21:36:11.298Z"
   },
   {
    "duration": 117,
    "start_time": "2022-06-20T21:36:18.350Z"
   },
   {
    "duration": 8,
    "start_time": "2022-06-20T21:36:24.623Z"
   },
   {
    "duration": 7,
    "start_time": "2022-06-20T21:36:25.293Z"
   },
   {
    "duration": 6,
    "start_time": "2022-06-20T21:36:26.538Z"
   },
   {
    "duration": 10,
    "start_time": "2022-06-20T21:36:39.598Z"
   },
   {
    "duration": 12,
    "start_time": "2022-06-20T21:36:42.728Z"
   },
   {
    "duration": 443,
    "start_time": "2022-06-20T21:36:48.945Z"
   },
   {
    "duration": 807417,
    "start_time": "2022-06-20T21:36:59.182Z"
   },
   {
    "duration": 1557,
    "start_time": "2022-06-21T04:07:36.588Z"
   },
   {
    "duration": 7,
    "start_time": "2022-06-21T04:07:38.147Z"
   },
   {
    "duration": 4,
    "start_time": "2022-06-21T04:07:39.177Z"
   },
   {
    "duration": 8,
    "start_time": "2022-06-21T04:07:40.569Z"
   },
   {
    "duration": 5,
    "start_time": "2022-06-21T04:07:40.816Z"
   },
   {
    "duration": 12,
    "start_time": "2022-06-21T04:07:41.464Z"
   },
   {
    "duration": 5,
    "start_time": "2022-06-21T04:07:42.593Z"
   },
   {
    "duration": 19,
    "start_time": "2022-06-21T04:07:43.864Z"
   },
   {
    "duration": 12,
    "start_time": "2022-06-21T04:07:45.345Z"
   },
   {
    "duration": 12,
    "start_time": "2022-06-21T04:07:45.713Z"
   },
   {
    "duration": 11,
    "start_time": "2022-06-21T04:07:46.440Z"
   },
   {
    "duration": 6,
    "start_time": "2022-06-21T04:07:47.929Z"
   },
   {
    "duration": 25,
    "start_time": "2022-06-21T04:07:49.728Z"
   },
   {
    "duration": 11,
    "start_time": "2022-06-21T04:07:50.408Z"
   },
   {
    "duration": 10,
    "start_time": "2022-06-21T04:07:51.057Z"
   },
   {
    "duration": 10,
    "start_time": "2022-06-21T04:07:51.922Z"
   },
   {
    "duration": 260,
    "start_time": "2022-06-21T04:07:57.753Z"
   },
   {
    "duration": 21,
    "start_time": "2022-06-21T04:08:12.713Z"
   },
   {
    "duration": 205196,
    "start_time": "2022-06-21T04:08:15.522Z"
   },
   {
    "duration": 259,
    "start_time": "2022-06-21T04:14:31.989Z"
   },
   {
    "duration": 204,
    "start_time": "2022-06-21T04:14:38.628Z"
   },
   {
    "duration": 125,
    "start_time": "2022-06-21T04:14:43.821Z"
   },
   {
    "duration": 8,
    "start_time": "2022-06-21T04:14:46.724Z"
   },
   {
    "duration": 6,
    "start_time": "2022-06-21T04:14:47.613Z"
   },
   {
    "duration": 6,
    "start_time": "2022-06-21T04:14:48.772Z"
   },
   {
    "duration": 8,
    "start_time": "2022-06-21T04:14:57.509Z"
   },
   {
    "duration": 8,
    "start_time": "2022-06-21T04:15:00.357Z"
   },
   {
    "duration": 442,
    "start_time": "2022-06-21T04:15:04.037Z"
   },
   {
    "duration": 821363,
    "start_time": "2022-06-21T04:15:11.373Z"
   },
   {
    "duration": 334,
    "start_time": "2022-06-21T04:29:06.454Z"
   },
   {
    "duration": 162,
    "start_time": "2022-06-21T04:29:08.269Z"
   },
   {
    "duration": 8,
    "start_time": "2022-06-21T04:29:15.660Z"
   },
   {
    "duration": 13,
    "start_time": "2022-06-21T04:29:18.575Z"
   },
   {
    "duration": 2637,
    "start_time": "2022-06-21T04:29:23.268Z"
   },
   {
    "duration": 755933,
    "start_time": "2022-06-21T04:30:10.381Z"
   },
   {
    "duration": 551,
    "start_time": "2022-06-21T04:43:14.149Z"
   },
   {
    "duration": 30,
    "start_time": "2022-06-21T04:43:41.389Z"
   },
   {
    "duration": 10,
    "start_time": "2022-06-21T04:43:47.749Z"
   },
   {
    "duration": 1034,
    "start_time": "2022-06-21T04:43:51.973Z"
   },
   {
    "duration": 273444,
    "start_time": "2022-06-21T04:44:03.980Z"
   },
   {
    "duration": 20,
    "start_time": "2022-06-21T04:48:55.911Z"
   },
   {
    "duration": 5,
    "start_time": "2022-06-21T04:49:01.447Z"
   },
   {
    "duration": 149,
    "start_time": "2022-06-21T04:49:03.367Z"
   },
   {
    "duration": 174,
    "start_time": "2022-06-21T04:49:04.663Z"
   },
   {
    "duration": 7,
    "start_time": "2022-06-21T04:49:15.118Z"
   },
   {
    "duration": 3085558,
    "start_time": "2022-06-21T06:11:32.545Z"
   },
   {
    "duration": 85,
    "start_time": "2022-06-21T07:04:57.471Z"
   },
   {
    "duration": 5,
    "start_time": "2022-06-21T07:05:03.516Z"
   },
   {
    "duration": 374,
    "start_time": "2022-06-21T07:05:06.019Z"
   },
   {
    "duration": 223,
    "start_time": "2022-06-21T07:05:15.852Z"
   },
   {
    "duration": 328,
    "start_time": "2022-06-21T07:05:40.903Z"
   },
   {
    "duration": 1597,
    "start_time": "2022-06-22T02:14:58.257Z"
   },
   {
    "duration": 9,
    "start_time": "2022-06-22T02:14:59.856Z"
   },
   {
    "duration": 4,
    "start_time": "2022-06-22T02:14:59.867Z"
   },
   {
    "duration": 9,
    "start_time": "2022-06-22T02:14:59.873Z"
   },
   {
    "duration": 5,
    "start_time": "2022-06-22T02:14:59.884Z"
   },
   {
    "duration": 19,
    "start_time": "2022-06-22T02:14:59.891Z"
   },
   {
    "duration": 25,
    "start_time": "2022-06-22T02:14:59.912Z"
   },
   {
    "duration": 32,
    "start_time": "2022-06-22T02:14:59.943Z"
   },
   {
    "duration": 12,
    "start_time": "2022-06-22T02:14:59.977Z"
   },
   {
    "duration": 14,
    "start_time": "2022-06-22T02:14:59.991Z"
   },
   {
    "duration": 11,
    "start_time": "2022-06-22T02:15:00.006Z"
   },
   {
    "duration": 19,
    "start_time": "2022-06-22T02:15:00.019Z"
   },
   {
    "duration": 52,
    "start_time": "2022-06-22T02:15:00.039Z"
   },
   {
    "duration": 11,
    "start_time": "2022-06-22T02:15:00.092Z"
   },
   {
    "duration": 19,
    "start_time": "2022-06-22T02:15:00.104Z"
   },
   {
    "duration": 47,
    "start_time": "2022-06-22T02:15:00.125Z"
   },
   {
    "duration": 318,
    "start_time": "2022-06-22T02:15:00.174Z"
   },
   {
    "duration": 39,
    "start_time": "2022-06-22T02:15:00.494Z"
   },
   {
    "duration": 230624,
    "start_time": "2022-06-22T02:15:00.539Z"
   },
   {
    "duration": 293,
    "start_time": "2022-06-22T02:18:51.165Z"
   },
   {
    "duration": 467,
    "start_time": "2022-06-22T02:18:51.462Z"
   },
   {
    "duration": 229,
    "start_time": "2022-06-22T02:18:51.933Z"
   },
   {
    "duration": 7,
    "start_time": "2022-06-22T02:18:52.164Z"
   },
   {
    "duration": 6,
    "start_time": "2022-06-22T02:18:52.172Z"
   },
   {
    "duration": 6,
    "start_time": "2022-06-22T02:18:52.180Z"
   },
   {
    "duration": 9,
    "start_time": "2022-06-22T02:18:52.188Z"
   },
   {
    "duration": 42,
    "start_time": "2022-06-22T02:18:52.198Z"
   },
   {
    "duration": 482,
    "start_time": "2022-06-22T02:18:52.244Z"
   },
   {
    "duration": 883663,
    "start_time": "2022-06-22T02:18:52.732Z"
   },
   {
    "duration": 386,
    "start_time": "2022-06-22T02:33:36.397Z"
   },
   {
    "duration": 745,
    "start_time": "2022-06-22T02:33:36.785Z"
   },
   {
    "duration": 27,
    "start_time": "2022-06-22T02:33:37.540Z"
   },
   {
    "duration": 86,
    "start_time": "2022-06-22T02:33:37.569Z"
   },
   {
    "duration": 2904,
    "start_time": "2022-06-22T02:33:37.658Z"
   },
   {
    "duration": 819527,
    "start_time": "2022-06-22T02:33:40.568Z"
   },
   {
    "duration": 604,
    "start_time": "2022-06-22T02:47:20.096Z"
   },
   {
    "duration": 44,
    "start_time": "2022-06-22T02:47:20.701Z"
   },
   {
    "duration": 105,
    "start_time": "2022-06-22T02:47:20.749Z"
   },
   {
    "duration": 1158,
    "start_time": "2022-06-22T02:47:20.859Z"
   },
   {
    "duration": 303895,
    "start_time": "2022-06-22T02:47:22.019Z"
   },
   {
    "duration": 23,
    "start_time": "2022-06-22T02:52:25.916Z"
   },
   {
    "duration": 86,
    "start_time": "2022-06-22T02:52:25.943Z"
   },
   {
    "duration": 250,
    "start_time": "2022-06-22T02:52:26.032Z"
   },
   {
    "duration": 189,
    "start_time": "2022-06-22T02:52:26.284Z"
   },
   {
    "duration": 5,
    "start_time": "2022-06-22T02:52:26.475Z"
   },
   {
    "duration": 11,
    "start_time": "2022-06-22T02:52:26.482Z"
   },
   {
    "duration": 3009705,
    "start_time": "2022-06-22T02:52:26.495Z"
   },
   {
    "duration": 86,
    "start_time": "2022-06-22T03:42:36.202Z"
   },
   {
    "duration": 204,
    "start_time": "2022-06-22T03:42:36.290Z"
   },
   {
    "duration": 87,
    "start_time": "2022-06-22T03:53:48.035Z"
   },
   {
    "duration": 358,
    "start_time": "2022-06-22T03:53:56.819Z"
   },
   {
    "duration": 41,
    "start_time": "2022-06-22T06:03:16.276Z"
   },
   {
    "duration": 1449,
    "start_time": "2022-06-22T06:03:28.265Z"
   },
   {
    "duration": 71,
    "start_time": "2022-06-22T06:03:40.621Z"
   },
   {
    "duration": 1374,
    "start_time": "2022-06-22T06:16:39.653Z"
   },
   {
    "duration": 9,
    "start_time": "2022-06-22T06:16:41.030Z"
   },
   {
    "duration": 14,
    "start_time": "2022-06-22T06:16:41.041Z"
   },
   {
    "duration": 31,
    "start_time": "2022-06-22T06:16:41.057Z"
   },
   {
    "duration": 14,
    "start_time": "2022-06-22T06:16:41.089Z"
   },
   {
    "duration": 44,
    "start_time": "2022-06-22T06:16:41.106Z"
   },
   {
    "duration": 5,
    "start_time": "2022-06-22T06:16:41.151Z"
   },
   {
    "duration": 37,
    "start_time": "2022-06-22T06:16:41.158Z"
   },
   {
    "duration": 18,
    "start_time": "2022-06-22T06:16:41.197Z"
   },
   {
    "duration": 15,
    "start_time": "2022-06-22T06:16:41.218Z"
   },
   {
    "duration": 16,
    "start_time": "2022-06-22T06:16:41.235Z"
   },
   {
    "duration": 6,
    "start_time": "2022-06-22T06:16:41.253Z"
   },
   {
    "duration": 33,
    "start_time": "2022-06-22T06:16:41.261Z"
   },
   {
    "duration": 12,
    "start_time": "2022-06-22T06:16:41.296Z"
   },
   {
    "duration": 21,
    "start_time": "2022-06-22T06:16:41.310Z"
   },
   {
    "duration": 11,
    "start_time": "2022-06-22T06:16:41.350Z"
   },
   {
    "duration": 365,
    "start_time": "2022-06-22T06:16:41.362Z"
   },
   {
    "duration": 31,
    "start_time": "2022-06-22T06:16:41.729Z"
   },
   {
    "duration": 206686,
    "start_time": "2022-06-22T06:16:41.762Z"
   },
   {
    "duration": 289,
    "start_time": "2022-06-22T06:20:08.450Z"
   },
   {
    "duration": 615,
    "start_time": "2022-06-22T06:20:08.740Z"
   },
   {
    "duration": 264,
    "start_time": "2022-06-22T06:20:09.361Z"
   },
   {
    "duration": 8,
    "start_time": "2022-06-22T06:20:09.628Z"
   },
   {
    "duration": 18,
    "start_time": "2022-06-22T06:20:09.638Z"
   },
   {
    "duration": 12,
    "start_time": "2022-06-22T06:20:09.658Z"
   },
   {
    "duration": 31,
    "start_time": "2022-06-22T06:20:09.672Z"
   },
   {
    "duration": 11,
    "start_time": "2022-06-22T06:20:09.705Z"
   },
   {
    "duration": 540,
    "start_time": "2022-06-22T06:20:09.721Z"
   },
   {
    "duration": 1806,
    "start_time": "2022-06-22T06:22:14.578Z"
   },
   {
    "duration": 10,
    "start_time": "2022-06-22T06:22:16.723Z"
   },
   {
    "duration": 5,
    "start_time": "2022-06-22T06:22:19.517Z"
   },
   {
    "duration": 10,
    "start_time": "2022-06-22T06:22:20.985Z"
   },
   {
    "duration": 4,
    "start_time": "2022-06-22T06:22:21.694Z"
   },
   {
    "duration": 17,
    "start_time": "2022-06-22T06:22:22.414Z"
   },
   {
    "duration": 8,
    "start_time": "2022-06-22T06:22:24.195Z"
   },
   {
    "duration": 23,
    "start_time": "2022-06-22T06:22:26.190Z"
   },
   {
    "duration": 69,
    "start_time": "2022-06-22T06:22:28.044Z"
   },
   {
    "duration": 14,
    "start_time": "2022-06-22T06:22:37.613Z"
   },
   {
    "duration": 11,
    "start_time": "2022-06-22T06:22:38.629Z"
   },
   {
    "duration": 14,
    "start_time": "2022-06-22T06:22:42.481Z"
   },
   {
    "duration": 39,
    "start_time": "2022-06-22T06:22:46.414Z"
   },
   {
    "duration": 16,
    "start_time": "2022-06-22T06:22:46.925Z"
   },
   {
    "duration": 17,
    "start_time": "2022-06-22T06:22:47.388Z"
   },
   {
    "duration": 17,
    "start_time": "2022-06-22T06:22:48.004Z"
   },
   {
    "duration": 366,
    "start_time": "2022-06-22T06:22:55.110Z"
   },
   {
    "duration": 49,
    "start_time": "2022-06-22T06:23:07.246Z"
   },
   {
    "duration": 1518,
    "start_time": "2022-06-22T06:25:22.915Z"
   },
   {
    "duration": 10,
    "start_time": "2022-06-22T06:25:26.015Z"
   },
   {
    "duration": 5,
    "start_time": "2022-06-22T06:25:28.032Z"
   },
   {
    "duration": 8,
    "start_time": "2022-06-22T06:25:32.609Z"
   },
   {
    "duration": 10,
    "start_time": "2022-06-22T06:25:33.594Z"
   },
   {
    "duration": 11,
    "start_time": "2022-06-22T06:25:34.321Z"
   },
   {
    "duration": 6,
    "start_time": "2022-06-22T06:25:37.604Z"
   },
   {
    "duration": 37,
    "start_time": "2022-06-22T06:25:47.493Z"
   },
   {
    "duration": 14,
    "start_time": "2022-06-22T06:25:50.001Z"
   },
   {
    "duration": 21,
    "start_time": "2022-06-22T06:25:50.880Z"
   },
   {
    "duration": 18,
    "start_time": "2022-06-22T06:25:51.891Z"
   },
   {
    "duration": 6,
    "start_time": "2022-06-22T06:25:53.928Z"
   },
   {
    "duration": 33,
    "start_time": "2022-06-22T06:25:55.509Z"
   },
   {
    "duration": 12,
    "start_time": "2022-06-22T06:25:56.195Z"
   },
   {
    "duration": 21,
    "start_time": "2022-06-22T06:25:56.849Z"
   },
   {
    "duration": 18,
    "start_time": "2022-06-22T06:25:57.472Z"
   },
   {
    "duration": 324,
    "start_time": "2022-06-22T06:26:03.647Z"
   },
   {
    "duration": 24,
    "start_time": "2022-06-22T06:26:23.590Z"
   },
   {
    "duration": 245996,
    "start_time": "2022-06-22T06:26:24.692Z"
   },
   {
    "duration": 264945,
    "start_time": "2022-06-22T06:31:22.504Z"
   },
   {
    "duration": 1409,
    "start_time": "2022-06-22T06:37:27.614Z"
   },
   {
    "duration": 9,
    "start_time": "2022-06-22T06:37:29.972Z"
   },
   {
    "duration": 5,
    "start_time": "2022-06-22T06:37:31.444Z"
   },
   {
    "duration": 10,
    "start_time": "2022-06-22T06:37:33.725Z"
   },
   {
    "duration": 6,
    "start_time": "2022-06-22T06:37:34.437Z"
   },
   {
    "duration": 16,
    "start_time": "2022-06-22T06:37:35.220Z"
   },
   {
    "duration": 7,
    "start_time": "2022-06-22T06:37:36.501Z"
   },
   {
    "duration": 19,
    "start_time": "2022-06-22T06:37:38.318Z"
   },
   {
    "duration": 15,
    "start_time": "2022-06-22T06:37:39.986Z"
   },
   {
    "duration": 18,
    "start_time": "2022-06-22T06:37:40.380Z"
   },
   {
    "duration": 12,
    "start_time": "2022-06-22T06:37:40.990Z"
   },
   {
    "duration": 9,
    "start_time": "2022-06-22T06:37:42.700Z"
   },
   {
    "duration": 32,
    "start_time": "2022-06-22T06:37:43.828Z"
   },
   {
    "duration": 16,
    "start_time": "2022-06-22T06:37:44.483Z"
   },
   {
    "duration": 11,
    "start_time": "2022-06-22T06:37:45.101Z"
   },
   {
    "duration": 15,
    "start_time": "2022-06-22T06:37:45.718Z"
   },
   {
    "duration": 309,
    "start_time": "2022-06-22T06:37:52.110Z"
   },
   {
    "duration": 41,
    "start_time": "2022-06-22T06:37:59.032Z"
   },
   {
    "duration": 160687,
    "start_time": "2022-06-22T06:38:18.438Z"
   },
   {
    "duration": 76,
    "start_time": "2022-06-22T06:41:45.646Z"
   },
   {
    "duration": 453,
    "start_time": "2022-06-22T06:41:51.919Z"
   },
   {
    "duration": 134,
    "start_time": "2022-06-22T06:41:58.278Z"
   },
   {
    "duration": 8,
    "start_time": "2022-06-22T06:42:01.028Z"
   },
   {
    "duration": 9,
    "start_time": "2022-06-22T06:42:01.614Z"
   },
   {
    "duration": 7,
    "start_time": "2022-06-22T06:42:02.297Z"
   },
   {
    "duration": 8,
    "start_time": "2022-06-22T06:42:19.424Z"
   },
   {
    "duration": 7,
    "start_time": "2022-06-22T06:42:22.119Z"
   },
   {
    "duration": 526,
    "start_time": "2022-06-22T06:42:25.510Z"
   },
   {
    "duration": 804105,
    "start_time": "2022-06-22T06:43:11.296Z"
   },
   {
    "duration": 575,
    "start_time": "2022-06-22T06:58:32.137Z"
   },
   {
    "duration": 456,
    "start_time": "2022-06-22T06:58:32.714Z"
   },
   {
    "duration": 7,
    "start_time": "2022-06-22T06:58:43.867Z"
   },
   {
    "duration": 22,
    "start_time": "2022-06-22T06:58:46.664Z"
   },
   {
    "duration": 2449,
    "start_time": "2022-06-22T06:58:51.722Z"
   },
   {
    "duration": 641728,
    "start_time": "2022-06-22T06:59:15.696Z"
   },
   {
    "duration": 292,
    "start_time": "2022-06-22T07:12:05.053Z"
   },
   {
    "duration": 38,
    "start_time": "2022-06-22T07:12:13.327Z"
   },
   {
    "duration": 11,
    "start_time": "2022-06-22T07:12:35.110Z"
   },
   {
    "duration": 946,
    "start_time": "2022-06-22T07:12:41.685Z"
   },
   {
    "duration": 281351,
    "start_time": "2022-06-22T07:12:59.621Z"
   },
   {
    "duration": 14,
    "start_time": "2022-06-22T07:18:45.006Z"
   },
   {
    "duration": 5,
    "start_time": "2022-06-22T07:18:51.822Z"
   },
   {
    "duration": 176,
    "start_time": "2022-06-22T07:18:53.421Z"
   },
   {
    "duration": 188,
    "start_time": "2022-06-22T07:18:54.494Z"
   },
   {
    "duration": 7,
    "start_time": "2022-06-22T07:21:28.303Z"
   },
   {
    "duration": 4,
    "start_time": "2022-06-22T07:21:30.310Z"
   },
   {
    "duration": 518,
    "start_time": "2022-06-22T07:21:34.081Z"
   },
   {
    "duration": 957,
    "start_time": "2022-06-22T07:22:22.598Z"
   },
   {
    "duration": 191,
    "start_time": "2022-06-22T07:22:56.344Z"
   },
   {
    "duration": 65,
    "start_time": "2022-06-22T07:23:31.105Z"
   }
  ],
  "kernelspec": {
   "display_name": "Python 3 (ipykernel)",
   "language": "python",
   "name": "python3"
  },
  "language_info": {
   "codemirror_mode": {
    "name": "ipython",
    "version": 3
   },
   "file_extension": ".py",
   "mimetype": "text/x-python",
   "name": "python",
   "nbconvert_exporter": "python",
   "pygments_lexer": "ipython3",
   "version": "3.9.12"
  },
  "toc": {
   "base_numbering": 1,
   "nav_menu": {},
   "number_sections": true,
   "sideBar": true,
   "skip_h1_title": true,
   "title_cell": "Содержание",
   "title_sidebar": "Contents",
   "toc_cell": true,
   "toc_position": {
    "height": "calc(100% - 180px)",
    "left": "10px",
    "top": "150px",
    "width": "237.594px"
   },
   "toc_section_display": true,
   "toc_window_display": true
  }
 },
 "nbformat": 4,
 "nbformat_minor": 2
}
